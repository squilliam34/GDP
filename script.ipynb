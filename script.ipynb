{
 "cells": [
  {
   "cell_type": "code",
   "execution_count": 2,
   "metadata": {},
   "outputs": [
    {
     "name": "stdout",
     "output_type": "stream",
     "text": [
      "Defaulting to user installation because normal site-packages is not writeable\n",
      "Collecting fredapi\n",
      "  Downloading fredapi-0.5.2-py3-none-any.whl.metadata (5.0 kB)\n",
      "Requirement already satisfied: pandas in c:\\users\\wfpin\\appdata\\local\\packages\\pythonsoftwarefoundation.python.3.13_qbz5n2kfra8p0\\localcache\\local-packages\\python313\\site-packages (from fredapi) (2.2.3)\n",
      "Requirement already satisfied: numpy>=1.26.0 in c:\\users\\wfpin\\appdata\\local\\packages\\pythonsoftwarefoundation.python.3.13_qbz5n2kfra8p0\\localcache\\local-packages\\python313\\site-packages (from pandas->fredapi) (2.2.4)\n",
      "Requirement already satisfied: python-dateutil>=2.8.2 in c:\\users\\wfpin\\appdata\\local\\packages\\pythonsoftwarefoundation.python.3.13_qbz5n2kfra8p0\\localcache\\local-packages\\python313\\site-packages (from pandas->fredapi) (2.9.0.post0)\n",
      "Requirement already satisfied: pytz>=2020.1 in c:\\users\\wfpin\\appdata\\local\\packages\\pythonsoftwarefoundation.python.3.13_qbz5n2kfra8p0\\localcache\\local-packages\\python313\\site-packages (from pandas->fredapi) (2025.1)\n",
      "Requirement already satisfied: tzdata>=2022.7 in c:\\users\\wfpin\\appdata\\local\\packages\\pythonsoftwarefoundation.python.3.13_qbz5n2kfra8p0\\localcache\\local-packages\\python313\\site-packages (from pandas->fredapi) (2025.1)\n",
      "Requirement already satisfied: six>=1.5 in c:\\users\\wfpin\\appdata\\local\\packages\\pythonsoftwarefoundation.python.3.13_qbz5n2kfra8p0\\localcache\\local-packages\\python313\\site-packages (from python-dateutil>=2.8.2->pandas->fredapi) (1.17.0)\n",
      "Downloading fredapi-0.5.2-py3-none-any.whl (11 kB)\n",
      "Installing collected packages: fredapi\n",
      "Successfully installed fredapi-0.5.2\n",
      "Note: you may need to restart the kernel to use updated packages.\n"
     ]
    },
    {
     "name": "stderr",
     "output_type": "stream",
     "text": [
      "\n",
      "[notice] A new release of pip is available: 24.3.1 -> 25.0.1\n",
      "[notice] To update, run: C:\\Users\\wfpin\\AppData\\Local\\Microsoft\\WindowsApps\\PythonSoftwareFoundation.Python.3.13_qbz5n2kfra8p0\\python.exe -m pip install --upgrade pip\n"
     ]
    }
   ],
   "source": [
    "%pip install fredapi"
   ]
  },
  {
   "cell_type": "code",
   "execution_count": 4,
   "metadata": {},
   "outputs": [
    {
     "name": "stdout",
     "output_type": "stream",
     "text": [
      "Defaulting to user installation because normal site-packages is not writeable\n",
      "Collecting dotenv\n",
      "  Downloading dotenv-0.9.9-py2.py3-none-any.whl.metadata (279 bytes)\n",
      "Collecting python-dotenv (from dotenv)\n",
      "  Downloading python_dotenv-1.1.0-py3-none-any.whl.metadata (24 kB)\n",
      "Downloading dotenv-0.9.9-py2.py3-none-any.whl (1.9 kB)\n",
      "Downloading python_dotenv-1.1.0-py3-none-any.whl (20 kB)\n",
      "Installing collected packages: python-dotenv, dotenv\n",
      "Successfully installed dotenv-0.9.9 python-dotenv-1.1.0\n",
      "Note: you may need to restart the kernel to use updated packages.\n"
     ]
    }
   ],
   "source": [
    "%pip install dotenv"
   ]
  },
  {
   "cell_type": "code",
   "execution_count": 1,
   "metadata": {},
   "outputs": [],
   "source": [
    "# imports for managing env variables/API keys\n",
    "import os\n",
    "from dotenv import load_dotenv"
   ]
  },
  {
   "cell_type": "code",
   "execution_count": 2,
   "metadata": {},
   "outputs": [],
   "source": [
    "# import libraries\n",
    "import pandas as pd\n",
    "from fredapi import Fred"
   ]
  },
  {
   "cell_type": "code",
   "execution_count": 3,
   "metadata": {},
   "outputs": [],
   "source": [
    "load_dotenv()\n",
    "\n",
    "api_key = os.getenv(\"API_KEY\")\n",
    "fred = Fred(api_key=api_key)"
   ]
  },
  {
   "cell_type": "code",
   "execution_count": 4,
   "metadata": {},
   "outputs": [
    {
     "data": {
      "text/html": [
       "<div>\n",
       "<style scoped>\n",
       "    .dataframe tbody tr th:only-of-type {\n",
       "        vertical-align: middle;\n",
       "    }\n",
       "\n",
       "    .dataframe tbody tr th {\n",
       "        vertical-align: top;\n",
       "    }\n",
       "\n",
       "    .dataframe thead th {\n",
       "        text-align: right;\n",
       "    }\n",
       "</style>\n",
       "<table border=\"1\" class=\"dataframe\">\n",
       "  <thead>\n",
       "    <tr style=\"text-align: right;\">\n",
       "      <th></th>\n",
       "      <th>id</th>\n",
       "      <th>realtime_start</th>\n",
       "      <th>realtime_end</th>\n",
       "      <th>title</th>\n",
       "      <th>observation_start</th>\n",
       "      <th>observation_end</th>\n",
       "      <th>frequency</th>\n",
       "      <th>frequency_short</th>\n",
       "      <th>units</th>\n",
       "      <th>units_short</th>\n",
       "      <th>seasonal_adjustment</th>\n",
       "      <th>seasonal_adjustment_short</th>\n",
       "      <th>last_updated</th>\n",
       "      <th>popularity</th>\n",
       "      <th>notes</th>\n",
       "    </tr>\n",
       "    <tr>\n",
       "      <th>series id</th>\n",
       "      <th></th>\n",
       "      <th></th>\n",
       "      <th></th>\n",
       "      <th></th>\n",
       "      <th></th>\n",
       "      <th></th>\n",
       "      <th></th>\n",
       "      <th></th>\n",
       "      <th></th>\n",
       "      <th></th>\n",
       "      <th></th>\n",
       "      <th></th>\n",
       "      <th></th>\n",
       "      <th></th>\n",
       "      <th></th>\n",
       "    </tr>\n",
       "  </thead>\n",
       "  <tbody>\n",
       "    <tr>\n",
       "      <th>IMPGS</th>\n",
       "      <td>IMPGS</td>\n",
       "      <td>2025-04-09</td>\n",
       "      <td>2025-04-09</td>\n",
       "      <td>Imports of Goods and Services</td>\n",
       "      <td>1947-01-01</td>\n",
       "      <td>2024-10-01</td>\n",
       "      <td>Quarterly</td>\n",
       "      <td>Q</td>\n",
       "      <td>Billions of Dollars</td>\n",
       "      <td>Bil. of $</td>\n",
       "      <td>Seasonally Adjusted Annual Rate</td>\n",
       "      <td>SAAR</td>\n",
       "      <td>2025-03-27 08:02:02-05:00</td>\n",
       "      <td>53</td>\n",
       "      <td>BEA Account Code: B021RC  A Guide to the Natio...</td>\n",
       "    </tr>\n",
       "    <tr>\n",
       "      <th>IMPGSA</th>\n",
       "      <td>IMPGSA</td>\n",
       "      <td>2025-04-09</td>\n",
       "      <td>2025-04-09</td>\n",
       "      <td>Imports of Goods and Services</td>\n",
       "      <td>1929-01-01</td>\n",
       "      <td>2024-01-01</td>\n",
       "      <td>Annual</td>\n",
       "      <td>A</td>\n",
       "      <td>Billions of Dollars</td>\n",
       "      <td>Bil. of $</td>\n",
       "      <td>Not Seasonally Adjusted</td>\n",
       "      <td>NSA</td>\n",
       "      <td>2025-03-27 08:00:32-05:00</td>\n",
       "      <td>21</td>\n",
       "      <td>BEA Account Code: B021RC</td>\n",
       "    </tr>\n",
       "    <tr>\n",
       "      <th>IEAMGSN</th>\n",
       "      <td>IEAMGSN</td>\n",
       "      <td>2025-04-09</td>\n",
       "      <td>2025-04-09</td>\n",
       "      <td>Imports of goods and services</td>\n",
       "      <td>1999-01-01</td>\n",
       "      <td>2024-10-01</td>\n",
       "      <td>Quarterly</td>\n",
       "      <td>Q</td>\n",
       "      <td>Millions of Dollars</td>\n",
       "      <td>Mil. of $</td>\n",
       "      <td>Not Seasonally Adjusted</td>\n",
       "      <td>NSA</td>\n",
       "      <td>2025-03-20 09:30:04-05:00</td>\n",
       "      <td>17</td>\n",
       "      <td>None</td>\n",
       "    </tr>\n",
       "    <tr>\n",
       "      <th>IEAMGS</th>\n",
       "      <td>IEAMGS</td>\n",
       "      <td>2025-04-09</td>\n",
       "      <td>2025-04-09</td>\n",
       "      <td>Imports of goods and services</td>\n",
       "      <td>1999-01-01</td>\n",
       "      <td>2024-10-01</td>\n",
       "      <td>Quarterly</td>\n",
       "      <td>Q</td>\n",
       "      <td>Millions of Dollars</td>\n",
       "      <td>Mil. of $</td>\n",
       "      <td>Seasonally Adjusted</td>\n",
       "      <td>SA</td>\n",
       "      <td>2025-03-20 09:30:04-05:00</td>\n",
       "      <td>8</td>\n",
       "      <td>None</td>\n",
       "    </tr>\n",
       "    <tr>\n",
       "      <th>IEAMGSA</th>\n",
       "      <td>IEAMGSA</td>\n",
       "      <td>2025-04-09</td>\n",
       "      <td>2025-04-09</td>\n",
       "      <td>Imports of goods and services</td>\n",
       "      <td>1999-01-01</td>\n",
       "      <td>2024-01-01</td>\n",
       "      <td>Annual</td>\n",
       "      <td>A</td>\n",
       "      <td>Millions of Dollars</td>\n",
       "      <td>Mil. of $</td>\n",
       "      <td>Not Seasonally Adjusted</td>\n",
       "      <td>NSA</td>\n",
       "      <td>2025-03-20 09:30:08-05:00</td>\n",
       "      <td>5</td>\n",
       "      <td>None</td>\n",
       "    </tr>\n",
       "    <tr>\n",
       "      <th>NA000342Q</th>\n",
       "      <td>NA000342Q</td>\n",
       "      <td>2025-04-09</td>\n",
       "      <td>2025-04-09</td>\n",
       "      <td>Imports of Goods and Services</td>\n",
       "      <td>1947-01-01</td>\n",
       "      <td>2024-10-01</td>\n",
       "      <td>Quarterly</td>\n",
       "      <td>Q</td>\n",
       "      <td>Millions of Dollars</td>\n",
       "      <td>Mil. of $</td>\n",
       "      <td>Not Seasonally Adjusted</td>\n",
       "      <td>NSA</td>\n",
       "      <td>2025-03-27 08:02:33-05:00</td>\n",
       "      <td>4</td>\n",
       "      <td>BEA Account Code: NA000342</td>\n",
       "    </tr>\n",
       "    <tr>\n",
       "      <th>NC000342Q</th>\n",
       "      <td>NC000342Q</td>\n",
       "      <td>2025-04-09</td>\n",
       "      <td>2025-04-09</td>\n",
       "      <td>Imports of Goods and Services</td>\n",
       "      <td>2002-01-01</td>\n",
       "      <td>2024-10-01</td>\n",
       "      <td>Quarterly</td>\n",
       "      <td>Q</td>\n",
       "      <td>Index 2017=100</td>\n",
       "      <td>Index 2017=100</td>\n",
       "      <td>Not Seasonally Adjusted</td>\n",
       "      <td>NSA</td>\n",
       "      <td>2025-03-27 08:02:30-05:00</td>\n",
       "      <td>2</td>\n",
       "      <td>BEA Account Code: NC000342</td>\n",
       "    </tr>\n",
       "    <tr>\n",
       "      <th>IR</th>\n",
       "      <td>IR</td>\n",
       "      <td>2025-04-09</td>\n",
       "      <td>2025-04-09</td>\n",
       "      <td>Import Price Index (End Use): All Commodities</td>\n",
       "      <td>1982-09-01</td>\n",
       "      <td>2025-02-01</td>\n",
       "      <td>Monthly</td>\n",
       "      <td>M</td>\n",
       "      <td>Index 2000=100</td>\n",
       "      <td>Index 2000=100</td>\n",
       "      <td>Not Seasonally Adjusted</td>\n",
       "      <td>NSA</td>\n",
       "      <td>2025-03-18 07:37:50-05:00</td>\n",
       "      <td>51</td>\n",
       "      <td>For more information, please see the Import/Ex...</td>\n",
       "    </tr>\n",
       "    <tr>\n",
       "      <th>IMPGSC1</th>\n",
       "      <td>IMPGSC1</td>\n",
       "      <td>2025-04-09</td>\n",
       "      <td>2025-04-09</td>\n",
       "      <td>Real imports of goods and services</td>\n",
       "      <td>1947-01-01</td>\n",
       "      <td>2024-10-01</td>\n",
       "      <td>Quarterly</td>\n",
       "      <td>Q</td>\n",
       "      <td>Billions of Chained 2017 Dollars</td>\n",
       "      <td>Bil. of Chn. 2017 $</td>\n",
       "      <td>Seasonally Adjusted Annual Rate</td>\n",
       "      <td>SAAR</td>\n",
       "      <td>2025-03-27 08:03:25-05:00</td>\n",
       "      <td>44</td>\n",
       "      <td>BEA Account Code: A021RX  A Guide to the Natio...</td>\n",
       "    </tr>\n",
       "    <tr>\n",
       "      <th>IMPGSCA</th>\n",
       "      <td>IMPGSCA</td>\n",
       "      <td>2025-04-09</td>\n",
       "      <td>2025-04-09</td>\n",
       "      <td>Real Imports of Goods and Services</td>\n",
       "      <td>1929-01-01</td>\n",
       "      <td>2024-01-01</td>\n",
       "      <td>Annual</td>\n",
       "      <td>A</td>\n",
       "      <td>Billions of Chained 2017 Dollars</td>\n",
       "      <td>Bil. of Chn. 2017 $</td>\n",
       "      <td>Not Seasonally Adjusted</td>\n",
       "      <td>NSA</td>\n",
       "      <td>2025-03-27 08:00:32-05:00</td>\n",
       "      <td>37</td>\n",
       "      <td>BEA Account Code: A021RX  A Guide to the Natio...</td>\n",
       "    </tr>\n",
       "  </tbody>\n",
       "</table>\n",
       "</div>"
      ],
      "text/plain": [
       "                  id realtime_start realtime_end  \\\n",
       "series id                                          \n",
       "IMPGS          IMPGS     2025-04-09   2025-04-09   \n",
       "IMPGSA        IMPGSA     2025-04-09   2025-04-09   \n",
       "IEAMGSN      IEAMGSN     2025-04-09   2025-04-09   \n",
       "IEAMGS        IEAMGS     2025-04-09   2025-04-09   \n",
       "IEAMGSA      IEAMGSA     2025-04-09   2025-04-09   \n",
       "NA000342Q  NA000342Q     2025-04-09   2025-04-09   \n",
       "NC000342Q  NC000342Q     2025-04-09   2025-04-09   \n",
       "IR                IR     2025-04-09   2025-04-09   \n",
       "IMPGSC1      IMPGSC1     2025-04-09   2025-04-09   \n",
       "IMPGSCA      IMPGSCA     2025-04-09   2025-04-09   \n",
       "\n",
       "                                                   title observation_start  \\\n",
       "series id                                                                    \n",
       "IMPGS                      Imports of Goods and Services        1947-01-01   \n",
       "IMPGSA                     Imports of Goods and Services        1929-01-01   \n",
       "IEAMGSN                    Imports of goods and services        1999-01-01   \n",
       "IEAMGS                     Imports of goods and services        1999-01-01   \n",
       "IEAMGSA                    Imports of goods and services        1999-01-01   \n",
       "NA000342Q                  Imports of Goods and Services        1947-01-01   \n",
       "NC000342Q                  Imports of Goods and Services        2002-01-01   \n",
       "IR         Import Price Index (End Use): All Commodities        1982-09-01   \n",
       "IMPGSC1               Real imports of goods and services        1947-01-01   \n",
       "IMPGSCA               Real Imports of Goods and Services        1929-01-01   \n",
       "\n",
       "          observation_end  frequency frequency_short  \\\n",
       "series id                                              \n",
       "IMPGS          2024-10-01  Quarterly               Q   \n",
       "IMPGSA         2024-01-01     Annual               A   \n",
       "IEAMGSN        2024-10-01  Quarterly               Q   \n",
       "IEAMGS         2024-10-01  Quarterly               Q   \n",
       "IEAMGSA        2024-01-01     Annual               A   \n",
       "NA000342Q      2024-10-01  Quarterly               Q   \n",
       "NC000342Q      2024-10-01  Quarterly               Q   \n",
       "IR             2025-02-01    Monthly               M   \n",
       "IMPGSC1        2024-10-01  Quarterly               Q   \n",
       "IMPGSCA        2024-01-01     Annual               A   \n",
       "\n",
       "                                      units          units_short  \\\n",
       "series id                                                          \n",
       "IMPGS                   Billions of Dollars            Bil. of $   \n",
       "IMPGSA                  Billions of Dollars            Bil. of $   \n",
       "IEAMGSN                 Millions of Dollars            Mil. of $   \n",
       "IEAMGS                  Millions of Dollars            Mil. of $   \n",
       "IEAMGSA                 Millions of Dollars            Mil. of $   \n",
       "NA000342Q               Millions of Dollars            Mil. of $   \n",
       "NC000342Q                    Index 2017=100       Index 2017=100   \n",
       "IR                           Index 2000=100       Index 2000=100   \n",
       "IMPGSC1    Billions of Chained 2017 Dollars  Bil. of Chn. 2017 $   \n",
       "IMPGSCA    Billions of Chained 2017 Dollars  Bil. of Chn. 2017 $   \n",
       "\n",
       "                       seasonal_adjustment seasonal_adjustment_short  \\\n",
       "series id                                                              \n",
       "IMPGS      Seasonally Adjusted Annual Rate                      SAAR   \n",
       "IMPGSA             Not Seasonally Adjusted                       NSA   \n",
       "IEAMGSN            Not Seasonally Adjusted                       NSA   \n",
       "IEAMGS                 Seasonally Adjusted                        SA   \n",
       "IEAMGSA            Not Seasonally Adjusted                       NSA   \n",
       "NA000342Q          Not Seasonally Adjusted                       NSA   \n",
       "NC000342Q          Not Seasonally Adjusted                       NSA   \n",
       "IR                 Not Seasonally Adjusted                       NSA   \n",
       "IMPGSC1    Seasonally Adjusted Annual Rate                      SAAR   \n",
       "IMPGSCA            Not Seasonally Adjusted                       NSA   \n",
       "\n",
       "                        last_updated popularity  \\\n",
       "series id                                         \n",
       "IMPGS      2025-03-27 08:02:02-05:00         53   \n",
       "IMPGSA     2025-03-27 08:00:32-05:00         21   \n",
       "IEAMGSN    2025-03-20 09:30:04-05:00         17   \n",
       "IEAMGS     2025-03-20 09:30:04-05:00          8   \n",
       "IEAMGSA    2025-03-20 09:30:08-05:00          5   \n",
       "NA000342Q  2025-03-27 08:02:33-05:00          4   \n",
       "NC000342Q  2025-03-27 08:02:30-05:00          2   \n",
       "IR         2025-03-18 07:37:50-05:00         51   \n",
       "IMPGSC1    2025-03-27 08:03:25-05:00         44   \n",
       "IMPGSCA    2025-03-27 08:00:32-05:00         37   \n",
       "\n",
       "                                                       notes  \n",
       "series id                                                     \n",
       "IMPGS      BEA Account Code: B021RC  A Guide to the Natio...  \n",
       "IMPGSA                            BEA Account Code: B021RC    \n",
       "IEAMGSN                                                 None  \n",
       "IEAMGS                                                  None  \n",
       "IEAMGSA                                                 None  \n",
       "NA000342Q                         BEA Account Code: NA000342  \n",
       "NC000342Q                         BEA Account Code: NC000342  \n",
       "IR         For more information, please see the Import/Ex...  \n",
       "IMPGSC1    BEA Account Code: A021RX  A Guide to the Natio...  \n",
       "IMPGSCA    BEA Account Code: A021RX  A Guide to the Natio...  "
      ]
     },
     "execution_count": 4,
     "metadata": {},
     "output_type": "execute_result"
    }
   ],
   "source": [
    "# search through FRED database\n",
    "fred.search('Imports', limit=10, order_by='search_rank')"
   ]
  },
  {
   "cell_type": "code",
   "execution_count": 5,
   "metadata": {},
   "outputs": [],
   "source": [
    "def convert_monthly_to_quarterly(df):\n",
    "    \"\"\"\n",
    "    Convert monthly data to quarterly data by taking the mean of each quarter\n",
    "    \"\"\"\n",
    "    df.index = pd.to_datetime(df.index)\n",
    "    quarterly_df = df.resample('Q').mean()\n",
    "\n",
    "    # set index to be start of the quarter\n",
    "    quarterly_df.index = quarterly_df.index + pd.Timedelta(days=1) \n",
    "\n",
    "    # entries must drop the first observation due to resampling\n",
    "    return quarterly_df.tail(-1)"
   ]
  },
  {
   "cell_type": "code",
   "execution_count": 6,
   "metadata": {},
   "outputs": [],
   "source": [
    "def filter_years(df, year):\n",
    "    \"\"\"\n",
    "    Filter the data to only inlcude entries past a certain year\n",
    "    \"\"\"\n",
    "\n",
    "    # must drop first observation to match quarterly data\n",
    "    return df[df.index.year >= year].tail(-1)\n"
   ]
  },
  {
   "cell_type": "code",
   "execution_count": 7,
   "metadata": {},
   "outputs": [],
   "source": [
    "def convert_to_df(data, name):\n",
    "    \"\"\"\n",
    "    Convert Pandas Series from FRED to Pandas DataFrame\n",
    "    \"\"\"\n",
    "    data.name = name\n",
    "    data = pd.DataFrame(data)\n",
    "    data.index.name = 'Date'\n",
    "    data.reset_index(inplace=True)\n",
    "    return data"
   ]
  },
  {
   "cell_type": "code",
   "execution_count": 8,
   "metadata": {},
   "outputs": [
    {
     "data": {
      "text/html": [
       "<div>\n",
       "<style scoped>\n",
       "    .dataframe tbody tr th:only-of-type {\n",
       "        vertical-align: middle;\n",
       "    }\n",
       "\n",
       "    .dataframe tbody tr th {\n",
       "        vertical-align: top;\n",
       "    }\n",
       "\n",
       "    .dataframe thead th {\n",
       "        text-align: right;\n",
       "    }\n",
       "</style>\n",
       "<table border=\"1\" class=\"dataframe\">\n",
       "  <thead>\n",
       "    <tr style=\"text-align: right;\">\n",
       "      <th></th>\n",
       "      <th>Date</th>\n",
       "      <th>GDP</th>\n",
       "    </tr>\n",
       "  </thead>\n",
       "  <tbody>\n",
       "    <tr>\n",
       "      <th>217</th>\n",
       "      <td>2022-07-01</td>\n",
       "      <td>26272.011</td>\n",
       "    </tr>\n",
       "    <tr>\n",
       "      <th>218</th>\n",
       "      <td>2022-10-01</td>\n",
       "      <td>26734.277</td>\n",
       "    </tr>\n",
       "    <tr>\n",
       "      <th>219</th>\n",
       "      <td>2023-01-01</td>\n",
       "      <td>27164.359</td>\n",
       "    </tr>\n",
       "    <tr>\n",
       "      <th>220</th>\n",
       "      <td>2023-04-01</td>\n",
       "      <td>27453.815</td>\n",
       "    </tr>\n",
       "    <tr>\n",
       "      <th>221</th>\n",
       "      <td>2023-07-01</td>\n",
       "      <td>27967.697</td>\n",
       "    </tr>\n",
       "    <tr>\n",
       "      <th>222</th>\n",
       "      <td>2023-10-01</td>\n",
       "      <td>28296.967</td>\n",
       "    </tr>\n",
       "    <tr>\n",
       "      <th>223</th>\n",
       "      <td>2024-01-01</td>\n",
       "      <td>28624.069</td>\n",
       "    </tr>\n",
       "    <tr>\n",
       "      <th>224</th>\n",
       "      <td>2024-04-01</td>\n",
       "      <td>29016.714</td>\n",
       "    </tr>\n",
       "    <tr>\n",
       "      <th>225</th>\n",
       "      <td>2024-07-01</td>\n",
       "      <td>29374.914</td>\n",
       "    </tr>\n",
       "    <tr>\n",
       "      <th>226</th>\n",
       "      <td>2024-10-01</td>\n",
       "      <td>29723.864</td>\n",
       "    </tr>\n",
       "  </tbody>\n",
       "</table>\n",
       "</div>"
      ],
      "text/plain": [
       "          Date        GDP\n",
       "217 2022-07-01  26272.011\n",
       "218 2022-10-01  26734.277\n",
       "219 2023-01-01  27164.359\n",
       "220 2023-04-01  27453.815\n",
       "221 2023-07-01  27967.697\n",
       "222 2023-10-01  28296.967\n",
       "223 2024-01-01  28624.069\n",
       "224 2024-04-01  29016.714\n",
       "225 2024-07-01  29374.914\n",
       "226 2024-10-01  29723.864"
      ]
     },
     "execution_count": 8,
     "metadata": {},
     "output_type": "execute_result"
    }
   ],
   "source": [
    "# get the GDP data\n",
    "\n",
    "# quarterly GDP data\n",
    "GDP = fred.get_series_latest_release('GDP')\n",
    "\n",
    "# filter GDP to after 1968 to match CPI data\n",
    "GDP = filter_years(GDP, 1968)\n",
    "\n",
    "GDP = convert_to_df(GDP, 'GDP')\n",
    "GDP.tail(10)"
   ]
  },
  {
   "cell_type": "code",
   "execution_count": 9,
   "metadata": {},
   "outputs": [
    {
     "name": "stderr",
     "output_type": "stream",
     "text": [
      "C:\\Users\\wfpin\\AppData\\Local\\Temp\\ipykernel_21892\\3130277066.py:6: FutureWarning: 'Q' is deprecated and will be removed in a future version, please use 'QE' instead.\n",
      "  quarterly_df = df.resample('Q').mean()\n"
     ]
    },
    {
     "data": {
      "text/html": [
       "<div>\n",
       "<style scoped>\n",
       "    .dataframe tbody tr th:only-of-type {\n",
       "        vertical-align: middle;\n",
       "    }\n",
       "\n",
       "    .dataframe tbody tr th {\n",
       "        vertical-align: top;\n",
       "    }\n",
       "\n",
       "    .dataframe thead th {\n",
       "        text-align: right;\n",
       "    }\n",
       "</style>\n",
       "<table border=\"1\" class=\"dataframe\">\n",
       "  <thead>\n",
       "    <tr style=\"text-align: right;\">\n",
       "      <th></th>\n",
       "      <th>Date</th>\n",
       "      <th>Core CPI</th>\n",
       "    </tr>\n",
       "  </thead>\n",
       "  <tbody>\n",
       "    <tr>\n",
       "      <th>217</th>\n",
       "      <td>2022-07-01</td>\n",
       "      <td>5.022476</td>\n",
       "    </tr>\n",
       "    <tr>\n",
       "      <th>218</th>\n",
       "      <td>2022-10-01</td>\n",
       "      <td>5.963509</td>\n",
       "    </tr>\n",
       "    <tr>\n",
       "      <th>219</th>\n",
       "      <td>2023-01-01</td>\n",
       "      <td>6.430481</td>\n",
       "    </tr>\n",
       "    <tr>\n",
       "      <th>220</th>\n",
       "      <td>2023-04-01</td>\n",
       "      <td>6.468520</td>\n",
       "    </tr>\n",
       "    <tr>\n",
       "      <th>221</th>\n",
       "      <td>2023-07-01</td>\n",
       "      <td>5.945127</td>\n",
       "    </tr>\n",
       "    <tr>\n",
       "      <th>222</th>\n",
       "      <td>2023-10-01</td>\n",
       "      <td>5.176014</td>\n",
       "    </tr>\n",
       "    <tr>\n",
       "      <th>223</th>\n",
       "      <td>2024-01-01</td>\n",
       "      <td>4.710545</td>\n",
       "    </tr>\n",
       "    <tr>\n",
       "      <th>224</th>\n",
       "      <td>2024-04-01</td>\n",
       "      <td>4.501388</td>\n",
       "    </tr>\n",
       "    <tr>\n",
       "      <th>225</th>\n",
       "      <td>2024-07-01</td>\n",
       "      <td>4.312833</td>\n",
       "    </tr>\n",
       "    <tr>\n",
       "      <th>226</th>\n",
       "      <td>2024-10-01</td>\n",
       "      <td>4.101509</td>\n",
       "    </tr>\n",
       "  </tbody>\n",
       "</table>\n",
       "</div>"
      ],
      "text/plain": [
       "          Date  Core CPI\n",
       "217 2022-07-01  5.022476\n",
       "218 2022-10-01  5.963509\n",
       "219 2023-01-01  6.430481\n",
       "220 2023-04-01  6.468520\n",
       "221 2023-07-01  5.945127\n",
       "222 2023-10-01  5.176014\n",
       "223 2024-01-01  4.710545\n",
       "224 2024-04-01  4.501388\n",
       "225 2024-07-01  4.312833\n",
       "226 2024-10-01  4.101509"
      ]
     },
     "execution_count": 9,
     "metadata": {},
     "output_type": "execute_result"
    }
   ],
   "source": [
    "# get the CPI data\n",
    "Core_CPI = fred.get_series_latest_release('CORESTICKM159SFRBATL')\n",
    "\n",
    "# filter CPI to quarterly data\n",
    "Core_CPI = convert_monthly_to_quarterly(Core_CPI)\n",
    "\n",
    "# drop the last two observations to match GDP data\n",
    "Core_CPI = Core_CPI.head(-2)\n",
    "\n",
    "Core_CPI = convert_to_df(Core_CPI, 'Core CPI')\n",
    "Core_CPI.tail(10)"
   ]
  },
  {
   "cell_type": "code",
   "execution_count": 10,
   "metadata": {},
   "outputs": [
    {
     "name": "stderr",
     "output_type": "stream",
     "text": [
      "C:\\Users\\wfpin\\AppData\\Local\\Temp\\ipykernel_21892\\3130277066.py:6: FutureWarning: 'Q' is deprecated and will be removed in a future version, please use 'QE' instead.\n",
      "  quarterly_df = df.resample('Q').mean()\n"
     ]
    },
    {
     "data": {
      "text/html": [
       "<div>\n",
       "<style scoped>\n",
       "    .dataframe tbody tr th:only-of-type {\n",
       "        vertical-align: middle;\n",
       "    }\n",
       "\n",
       "    .dataframe tbody tr th {\n",
       "        vertical-align: top;\n",
       "    }\n",
       "\n",
       "    .dataframe thead th {\n",
       "        text-align: right;\n",
       "    }\n",
       "</style>\n",
       "<table border=\"1\" class=\"dataframe\">\n",
       "  <thead>\n",
       "    <tr style=\"text-align: right;\">\n",
       "      <th></th>\n",
       "      <th>Date</th>\n",
       "      <th>Unemployment Rate</th>\n",
       "    </tr>\n",
       "  </thead>\n",
       "  <tbody>\n",
       "    <tr>\n",
       "      <th>217</th>\n",
       "      <td>2022-07-01</td>\n",
       "      <td>3.633333</td>\n",
       "    </tr>\n",
       "    <tr>\n",
       "      <th>218</th>\n",
       "      <td>2022-10-01</td>\n",
       "      <td>3.533333</td>\n",
       "    </tr>\n",
       "    <tr>\n",
       "      <th>219</th>\n",
       "      <td>2023-01-01</td>\n",
       "      <td>3.566667</td>\n",
       "    </tr>\n",
       "    <tr>\n",
       "      <th>220</th>\n",
       "      <td>2023-04-01</td>\n",
       "      <td>3.533333</td>\n",
       "    </tr>\n",
       "    <tr>\n",
       "      <th>221</th>\n",
       "      <td>2023-07-01</td>\n",
       "      <td>3.533333</td>\n",
       "    </tr>\n",
       "    <tr>\n",
       "      <th>222</th>\n",
       "      <td>2023-10-01</td>\n",
       "      <td>3.666667</td>\n",
       "    </tr>\n",
       "    <tr>\n",
       "      <th>223</th>\n",
       "      <td>2024-01-01</td>\n",
       "      <td>3.800000</td>\n",
       "    </tr>\n",
       "    <tr>\n",
       "      <th>224</th>\n",
       "      <td>2024-04-01</td>\n",
       "      <td>3.833333</td>\n",
       "    </tr>\n",
       "    <tr>\n",
       "      <th>225</th>\n",
       "      <td>2024-07-01</td>\n",
       "      <td>4.000000</td>\n",
       "    </tr>\n",
       "    <tr>\n",
       "      <th>226</th>\n",
       "      <td>2024-10-01</td>\n",
       "      <td>4.166667</td>\n",
       "    </tr>\n",
       "  </tbody>\n",
       "</table>\n",
       "</div>"
      ],
      "text/plain": [
       "          Date  Unemployment Rate\n",
       "217 2022-07-01           3.633333\n",
       "218 2022-10-01           3.533333\n",
       "219 2023-01-01           3.566667\n",
       "220 2023-04-01           3.533333\n",
       "221 2023-07-01           3.533333\n",
       "222 2023-10-01           3.666667\n",
       "223 2024-01-01           3.800000\n",
       "224 2024-04-01           3.833333\n",
       "225 2024-07-01           4.000000\n",
       "226 2024-10-01           4.166667"
      ]
     },
     "execution_count": 10,
     "metadata": {},
     "output_type": "execute_result"
    }
   ],
   "source": [
    "# get unemployment rate data\n",
    "Unemployment_Rate = fred.get_series_latest_release('UNRATE')\n",
    "\n",
    "# filter to be quarterly data and be after 1968\n",
    "Unemployment_Rate = convert_monthly_to_quarterly(Unemployment_Rate)\n",
    "Unemployment_Rate = filter_years(Unemployment_Rate, 1968)\n",
    "\n",
    "# drop the last two observations to match GDP data\n",
    "Unemployment_Rate = Unemployment_Rate.head(-2)\n",
    "Unemployment_Rate = convert_to_df(Unemployment_Rate, 'Unemployment Rate')\n",
    "Unemployment_Rate.tail(10)"
   ]
  },
  {
   "cell_type": "code",
   "execution_count": 11,
   "metadata": {},
   "outputs": [
    {
     "name": "stderr",
     "output_type": "stream",
     "text": [
      "C:\\Users\\wfpin\\AppData\\Local\\Temp\\ipykernel_21892\\3130277066.py:6: FutureWarning: 'Q' is deprecated and will be removed in a future version, please use 'QE' instead.\n",
      "  quarterly_df = df.resample('Q').mean()\n"
     ]
    },
    {
     "data": {
      "text/html": [
       "<div>\n",
       "<style scoped>\n",
       "    .dataframe tbody tr th:only-of-type {\n",
       "        vertical-align: middle;\n",
       "    }\n",
       "\n",
       "    .dataframe tbody tr th {\n",
       "        vertical-align: top;\n",
       "    }\n",
       "\n",
       "    .dataframe thead th {\n",
       "        text-align: right;\n",
       "    }\n",
       "</style>\n",
       "<table border=\"1\" class=\"dataframe\">\n",
       "  <thead>\n",
       "    <tr style=\"text-align: right;\">\n",
       "      <th></th>\n",
       "      <th>Date</th>\n",
       "      <th>Fed Funds Rate</th>\n",
       "    </tr>\n",
       "  </thead>\n",
       "  <tbody>\n",
       "    <tr>\n",
       "      <th>217</th>\n",
       "      <td>2022-07-01</td>\n",
       "      <td>0.766813</td>\n",
       "    </tr>\n",
       "    <tr>\n",
       "      <th>218</th>\n",
       "      <td>2022-10-01</td>\n",
       "      <td>2.182935</td>\n",
       "    </tr>\n",
       "    <tr>\n",
       "      <th>219</th>\n",
       "      <td>2023-01-01</td>\n",
       "      <td>3.653370</td>\n",
       "    </tr>\n",
       "    <tr>\n",
       "      <th>220</th>\n",
       "      <td>2023-04-01</td>\n",
       "      <td>4.514556</td>\n",
       "    </tr>\n",
       "    <tr>\n",
       "      <th>221</th>\n",
       "      <td>2023-07-01</td>\n",
       "      <td>4.988132</td>\n",
       "    </tr>\n",
       "    <tr>\n",
       "      <th>222</th>\n",
       "      <td>2023-10-01</td>\n",
       "      <td>5.259239</td>\n",
       "    </tr>\n",
       "    <tr>\n",
       "      <th>223</th>\n",
       "      <td>2024-01-01</td>\n",
       "      <td>5.330000</td>\n",
       "    </tr>\n",
       "    <tr>\n",
       "      <th>224</th>\n",
       "      <td>2024-04-01</td>\n",
       "      <td>5.330000</td>\n",
       "    </tr>\n",
       "    <tr>\n",
       "      <th>225</th>\n",
       "      <td>2024-07-01</td>\n",
       "      <td>5.330000</td>\n",
       "    </tr>\n",
       "    <tr>\n",
       "      <th>226</th>\n",
       "      <td>2024-10-01</td>\n",
       "      <td>5.264783</td>\n",
       "    </tr>\n",
       "  </tbody>\n",
       "</table>\n",
       "</div>"
      ],
      "text/plain": [
       "          Date  Fed Funds Rate\n",
       "217 2022-07-01        0.766813\n",
       "218 2022-10-01        2.182935\n",
       "219 2023-01-01        3.653370\n",
       "220 2023-04-01        4.514556\n",
       "221 2023-07-01        4.988132\n",
       "222 2023-10-01        5.259239\n",
       "223 2024-01-01        5.330000\n",
       "224 2024-04-01        5.330000\n",
       "225 2024-07-01        5.330000\n",
       "226 2024-10-01        5.264783"
      ]
     },
     "execution_count": 11,
     "metadata": {},
     "output_type": "execute_result"
    }
   ],
   "source": [
    "# get Fed Funds rate data\n",
    "FFR = fred.get_series_latest_release('DFF')\n",
    "\n",
    "# filter to be quarterly data and be after 1968\n",
    "FFR = convert_monthly_to_quarterly(FFR)\n",
    "FFR = filter_years(FFR, 1968)\n",
    "\n",
    "# drop the last three observations to match GDP data\n",
    "FFR = FFR.head(-3)\n",
    "FFR = convert_to_df(FFR, 'Fed Funds Rate')\n",
    "FFR.tail(10)"
   ]
  },
  {
   "cell_type": "code",
   "execution_count": 12,
   "metadata": {},
   "outputs": [
    {
     "name": "stderr",
     "output_type": "stream",
     "text": [
      "C:\\Users\\wfpin\\AppData\\Local\\Temp\\ipykernel_21892\\3130277066.py:6: FutureWarning: 'Q' is deprecated and will be removed in a future version, please use 'QE' instead.\n",
      "  quarterly_df = df.resample('Q').mean()\n"
     ]
    },
    {
     "data": {
      "text/html": [
       "<div>\n",
       "<style scoped>\n",
       "    .dataframe tbody tr th:only-of-type {\n",
       "        vertical-align: middle;\n",
       "    }\n",
       "\n",
       "    .dataframe tbody tr th {\n",
       "        vertical-align: top;\n",
       "    }\n",
       "\n",
       "    .dataframe thead th {\n",
       "        text-align: right;\n",
       "    }\n",
       "</style>\n",
       "<table border=\"1\" class=\"dataframe\">\n",
       "  <thead>\n",
       "    <tr style=\"text-align: right;\">\n",
       "      <th></th>\n",
       "      <th>Date</th>\n",
       "      <th>Gov Expenditures</th>\n",
       "    </tr>\n",
       "  </thead>\n",
       "  <tbody>\n",
       "    <tr>\n",
       "      <th>217</th>\n",
       "      <td>2022-07-01</td>\n",
       "      <td>6068.545</td>\n",
       "    </tr>\n",
       "    <tr>\n",
       "      <th>218</th>\n",
       "      <td>2022-10-01</td>\n",
       "      <td>6181.478</td>\n",
       "    </tr>\n",
       "    <tr>\n",
       "      <th>219</th>\n",
       "      <td>2023-01-01</td>\n",
       "      <td>6317.107</td>\n",
       "    </tr>\n",
       "    <tr>\n",
       "      <th>220</th>\n",
       "      <td>2023-04-01</td>\n",
       "      <td>6409.685</td>\n",
       "    </tr>\n",
       "    <tr>\n",
       "      <th>221</th>\n",
       "      <td>2023-07-01</td>\n",
       "      <td>6444.696</td>\n",
       "    </tr>\n",
       "    <tr>\n",
       "      <th>222</th>\n",
       "      <td>2023-10-01</td>\n",
       "      <td>6527.403</td>\n",
       "    </tr>\n",
       "    <tr>\n",
       "      <th>223</th>\n",
       "      <td>2024-01-01</td>\n",
       "      <td>6619.838</td>\n",
       "    </tr>\n",
       "    <tr>\n",
       "      <th>224</th>\n",
       "      <td>2024-04-01</td>\n",
       "      <td>6772.827</td>\n",
       "    </tr>\n",
       "    <tr>\n",
       "      <th>225</th>\n",
       "      <td>2024-07-01</td>\n",
       "      <td>6864.587</td>\n",
       "    </tr>\n",
       "    <tr>\n",
       "      <th>226</th>\n",
       "      <td>2024-10-01</td>\n",
       "      <td>7052.115</td>\n",
       "    </tr>\n",
       "  </tbody>\n",
       "</table>\n",
       "</div>"
      ],
      "text/plain": [
       "          Date  Gov Expenditures\n",
       "217 2022-07-01          6068.545\n",
       "218 2022-10-01          6181.478\n",
       "219 2023-01-01          6317.107\n",
       "220 2023-04-01          6409.685\n",
       "221 2023-07-01          6444.696\n",
       "222 2023-10-01          6527.403\n",
       "223 2024-01-01          6619.838\n",
       "224 2024-04-01          6772.827\n",
       "225 2024-07-01          6864.587\n",
       "226 2024-10-01          7052.115"
      ]
     },
     "execution_count": 12,
     "metadata": {},
     "output_type": "execute_result"
    }
   ],
   "source": [
    "# get government expenditures\n",
    "Gov_Expenditures = fred.get_series_latest_release('FGEXPND')\n",
    "\n",
    "# filter to be quarterly data and be after 1968\n",
    "Gov_Expenditures = convert_monthly_to_quarterly(Gov_Expenditures)           \n",
    "Gov_Expenditures = filter_years(Gov_Expenditures, 1968)\n",
    "\n",
    "# drop the last observation to match GDP data\n",
    "Gov_Expenditures = Gov_Expenditures.head(-1)\n",
    "Gov_Expenditures = convert_to_df(Gov_Expenditures, 'Gov Expenditures')\n",
    "Gov_Expenditures.tail(10)"
   ]
  },
  {
   "cell_type": "code",
   "execution_count": 13,
   "metadata": {},
   "outputs": [
    {
     "data": {
      "text/html": [
       "<div>\n",
       "<style scoped>\n",
       "    .dataframe tbody tr th:only-of-type {\n",
       "        vertical-align: middle;\n",
       "    }\n",
       "\n",
       "    .dataframe tbody tr th {\n",
       "        vertical-align: top;\n",
       "    }\n",
       "\n",
       "    .dataframe thead th {\n",
       "        text-align: right;\n",
       "    }\n",
       "</style>\n",
       "<table border=\"1\" class=\"dataframe\">\n",
       "  <thead>\n",
       "    <tr style=\"text-align: right;\">\n",
       "      <th></th>\n",
       "      <th>Date</th>\n",
       "      <th>Imports</th>\n",
       "    </tr>\n",
       "  </thead>\n",
       "  <tbody>\n",
       "    <tr>\n",
       "      <th>217</th>\n",
       "      <td>2022-07-01</td>\n",
       "      <td>3988.447</td>\n",
       "    </tr>\n",
       "    <tr>\n",
       "      <th>218</th>\n",
       "      <td>2022-10-01</td>\n",
       "      <td>3897.402</td>\n",
       "    </tr>\n",
       "    <tr>\n",
       "      <th>219</th>\n",
       "      <td>2023-01-01</td>\n",
       "      <td>3874.210</td>\n",
       "    </tr>\n",
       "    <tr>\n",
       "      <th>220</th>\n",
       "      <td>2023-04-01</td>\n",
       "      <td>3799.003</td>\n",
       "    </tr>\n",
       "    <tr>\n",
       "      <th>221</th>\n",
       "      <td>2023-07-01</td>\n",
       "      <td>3843.132</td>\n",
       "    </tr>\n",
       "    <tr>\n",
       "      <th>222</th>\n",
       "      <td>2023-10-01</td>\n",
       "      <td>3882.899</td>\n",
       "    </tr>\n",
       "    <tr>\n",
       "      <th>223</th>\n",
       "      <td>2024-01-01</td>\n",
       "      <td>3966.989</td>\n",
       "    </tr>\n",
       "    <tr>\n",
       "      <th>224</th>\n",
       "      <td>2024-04-01</td>\n",
       "      <td>4061.192</td>\n",
       "    </tr>\n",
       "    <tr>\n",
       "      <th>225</th>\n",
       "      <td>2024-07-01</td>\n",
       "      <td>4163.975</td>\n",
       "    </tr>\n",
       "    <tr>\n",
       "      <th>226</th>\n",
       "      <td>2024-10-01</td>\n",
       "      <td>4141.013</td>\n",
       "    </tr>\n",
       "  </tbody>\n",
       "</table>\n",
       "</div>"
      ],
      "text/plain": [
       "          Date   Imports\n",
       "217 2022-07-01  3988.447\n",
       "218 2022-10-01  3897.402\n",
       "219 2023-01-01  3874.210\n",
       "220 2023-04-01  3799.003\n",
       "221 2023-07-01  3843.132\n",
       "222 2023-10-01  3882.899\n",
       "223 2024-01-01  3966.989\n",
       "224 2024-04-01  4061.192\n",
       "225 2024-07-01  4163.975\n",
       "226 2024-10-01  4141.013"
      ]
     },
     "execution_count": 13,
     "metadata": {},
     "output_type": "execute_result"
    }
   ],
   "source": [
    "# get import data\n",
    "\n",
    "# quarterly import data\n",
    "Imports = fred.get_series_latest_release('IMPGS')\n",
    "\n",
    "# filter to be after 1968   \n",
    "Imports = filter_years(Imports, 1968)\n",
    "Imports = convert_to_df(Imports, 'Imports')\n",
    "Imports.tail(10)"
   ]
  },
  {
   "cell_type": "code",
   "execution_count": 14,
   "metadata": {},
   "outputs": [
    {
     "data": {
      "text/html": [
       "<div>\n",
       "<style scoped>\n",
       "    .dataframe tbody tr th:only-of-type {\n",
       "        vertical-align: middle;\n",
       "    }\n",
       "\n",
       "    .dataframe tbody tr th {\n",
       "        vertical-align: top;\n",
       "    }\n",
       "\n",
       "    .dataframe thead th {\n",
       "        text-align: right;\n",
       "    }\n",
       "</style>\n",
       "<table border=\"1\" class=\"dataframe\">\n",
       "  <thead>\n",
       "    <tr style=\"text-align: right;\">\n",
       "      <th></th>\n",
       "      <th>Date</th>\n",
       "      <th>Exports</th>\n",
       "    </tr>\n",
       "  </thead>\n",
       "  <tbody>\n",
       "    <tr>\n",
       "      <th>217</th>\n",
       "      <td>2022-07-01</td>\n",
       "      <td>3102.550</td>\n",
       "    </tr>\n",
       "    <tr>\n",
       "      <th>218</th>\n",
       "      <td>2022-10-01</td>\n",
       "      <td>3046.718</td>\n",
       "    </tr>\n",
       "    <tr>\n",
       "      <th>219</th>\n",
       "      <td>2023-01-01</td>\n",
       "      <td>3060.562</td>\n",
       "    </tr>\n",
       "    <tr>\n",
       "      <th>220</th>\n",
       "      <td>2023-04-01</td>\n",
       "      <td>2995.524</td>\n",
       "    </tr>\n",
       "    <tr>\n",
       "      <th>221</th>\n",
       "      <td>2023-07-01</td>\n",
       "      <td>3062.041</td>\n",
       "    </tr>\n",
       "    <tr>\n",
       "      <th>222</th>\n",
       "      <td>2023-10-01</td>\n",
       "      <td>3091.748</td>\n",
       "    </tr>\n",
       "    <tr>\n",
       "      <th>223</th>\n",
       "      <td>2024-01-01</td>\n",
       "      <td>3125.421</td>\n",
       "    </tr>\n",
       "    <tr>\n",
       "      <th>224</th>\n",
       "      <td>2024-04-01</td>\n",
       "      <td>3154.321</td>\n",
       "    </tr>\n",
       "    <tr>\n",
       "      <th>225</th>\n",
       "      <td>2024-07-01</td>\n",
       "      <td>3220.292</td>\n",
       "    </tr>\n",
       "    <tr>\n",
       "      <th>226</th>\n",
       "      <td>2024-10-01</td>\n",
       "      <td>3220.929</td>\n",
       "    </tr>\n",
       "  </tbody>\n",
       "</table>\n",
       "</div>"
      ],
      "text/plain": [
       "          Date   Exports\n",
       "217 2022-07-01  3102.550\n",
       "218 2022-10-01  3046.718\n",
       "219 2023-01-01  3060.562\n",
       "220 2023-04-01  2995.524\n",
       "221 2023-07-01  3062.041\n",
       "222 2023-10-01  3091.748\n",
       "223 2024-01-01  3125.421\n",
       "224 2024-04-01  3154.321\n",
       "225 2024-07-01  3220.292\n",
       "226 2024-10-01  3220.929"
      ]
     },
     "execution_count": 14,
     "metadata": {},
     "output_type": "execute_result"
    }
   ],
   "source": [
    "# get export data\n",
    "\n",
    "# quarterly export data\n",
    "Exports = fred.get_series_latest_release('EXPGS')\n",
    "\n",
    "# filter to be after 1968\n",
    "Exports = filter_years(Exports, 1968)\n",
    "Exports = convert_to_df(Exports, 'Exports')\n",
    "Exports.tail(10)"
   ]
  },
  {
   "cell_type": "code",
   "execution_count": 15,
   "metadata": {},
   "outputs": [
    {
     "data": {
      "text/html": [
       "<div>\n",
       "<style scoped>\n",
       "    .dataframe tbody tr th:only-of-type {\n",
       "        vertical-align: middle;\n",
       "    }\n",
       "\n",
       "    .dataframe tbody tr th {\n",
       "        vertical-align: top;\n",
       "    }\n",
       "\n",
       "    .dataframe thead th {\n",
       "        text-align: right;\n",
       "    }\n",
       "</style>\n",
       "<table border=\"1\" class=\"dataframe\">\n",
       "  <thead>\n",
       "    <tr style=\"text-align: right;\">\n",
       "      <th></th>\n",
       "      <th>Date</th>\n",
       "      <th>Imports</th>\n",
       "      <th>Exports</th>\n",
       "      <th>Unemployment Rate</th>\n",
       "      <th>Fed Funds Rate</th>\n",
       "      <th>Gov Expenditures</th>\n",
       "      <th>Core CPI</th>\n",
       "      <th>GDP</th>\n",
       "    </tr>\n",
       "  </thead>\n",
       "  <tbody>\n",
       "    <tr>\n",
       "      <th>217</th>\n",
       "      <td>2022-07-01</td>\n",
       "      <td>3988.447</td>\n",
       "      <td>3102.550</td>\n",
       "      <td>3.633333</td>\n",
       "      <td>0.766813</td>\n",
       "      <td>6068.545</td>\n",
       "      <td>5.022476</td>\n",
       "      <td>26272.011</td>\n",
       "    </tr>\n",
       "    <tr>\n",
       "      <th>218</th>\n",
       "      <td>2022-10-01</td>\n",
       "      <td>3897.402</td>\n",
       "      <td>3046.718</td>\n",
       "      <td>3.533333</td>\n",
       "      <td>2.182935</td>\n",
       "      <td>6181.478</td>\n",
       "      <td>5.963509</td>\n",
       "      <td>26734.277</td>\n",
       "    </tr>\n",
       "    <tr>\n",
       "      <th>219</th>\n",
       "      <td>2023-01-01</td>\n",
       "      <td>3874.210</td>\n",
       "      <td>3060.562</td>\n",
       "      <td>3.566667</td>\n",
       "      <td>3.653370</td>\n",
       "      <td>6317.107</td>\n",
       "      <td>6.430481</td>\n",
       "      <td>27164.359</td>\n",
       "    </tr>\n",
       "    <tr>\n",
       "      <th>220</th>\n",
       "      <td>2023-04-01</td>\n",
       "      <td>3799.003</td>\n",
       "      <td>2995.524</td>\n",
       "      <td>3.533333</td>\n",
       "      <td>4.514556</td>\n",
       "      <td>6409.685</td>\n",
       "      <td>6.468520</td>\n",
       "      <td>27453.815</td>\n",
       "    </tr>\n",
       "    <tr>\n",
       "      <th>221</th>\n",
       "      <td>2023-07-01</td>\n",
       "      <td>3843.132</td>\n",
       "      <td>3062.041</td>\n",
       "      <td>3.533333</td>\n",
       "      <td>4.988132</td>\n",
       "      <td>6444.696</td>\n",
       "      <td>5.945127</td>\n",
       "      <td>27967.697</td>\n",
       "    </tr>\n",
       "    <tr>\n",
       "      <th>222</th>\n",
       "      <td>2023-10-01</td>\n",
       "      <td>3882.899</td>\n",
       "      <td>3091.748</td>\n",
       "      <td>3.666667</td>\n",
       "      <td>5.259239</td>\n",
       "      <td>6527.403</td>\n",
       "      <td>5.176014</td>\n",
       "      <td>28296.967</td>\n",
       "    </tr>\n",
       "    <tr>\n",
       "      <th>223</th>\n",
       "      <td>2024-01-01</td>\n",
       "      <td>3966.989</td>\n",
       "      <td>3125.421</td>\n",
       "      <td>3.800000</td>\n",
       "      <td>5.330000</td>\n",
       "      <td>6619.838</td>\n",
       "      <td>4.710545</td>\n",
       "      <td>28624.069</td>\n",
       "    </tr>\n",
       "    <tr>\n",
       "      <th>224</th>\n",
       "      <td>2024-04-01</td>\n",
       "      <td>4061.192</td>\n",
       "      <td>3154.321</td>\n",
       "      <td>3.833333</td>\n",
       "      <td>5.330000</td>\n",
       "      <td>6772.827</td>\n",
       "      <td>4.501388</td>\n",
       "      <td>29016.714</td>\n",
       "    </tr>\n",
       "    <tr>\n",
       "      <th>225</th>\n",
       "      <td>2024-07-01</td>\n",
       "      <td>4163.975</td>\n",
       "      <td>3220.292</td>\n",
       "      <td>4.000000</td>\n",
       "      <td>5.330000</td>\n",
       "      <td>6864.587</td>\n",
       "      <td>4.312833</td>\n",
       "      <td>29374.914</td>\n",
       "    </tr>\n",
       "    <tr>\n",
       "      <th>226</th>\n",
       "      <td>2024-10-01</td>\n",
       "      <td>4141.013</td>\n",
       "      <td>3220.929</td>\n",
       "      <td>4.166667</td>\n",
       "      <td>5.264783</td>\n",
       "      <td>7052.115</td>\n",
       "      <td>4.101509</td>\n",
       "      <td>29723.864</td>\n",
       "    </tr>\n",
       "  </tbody>\n",
       "</table>\n",
       "</div>"
      ],
      "text/plain": [
       "          Date   Imports   Exports  Unemployment Rate  Fed Funds Rate  \\\n",
       "217 2022-07-01  3988.447  3102.550           3.633333        0.766813   \n",
       "218 2022-10-01  3897.402  3046.718           3.533333        2.182935   \n",
       "219 2023-01-01  3874.210  3060.562           3.566667        3.653370   \n",
       "220 2023-04-01  3799.003  2995.524           3.533333        4.514556   \n",
       "221 2023-07-01  3843.132  3062.041           3.533333        4.988132   \n",
       "222 2023-10-01  3882.899  3091.748           3.666667        5.259239   \n",
       "223 2024-01-01  3966.989  3125.421           3.800000        5.330000   \n",
       "224 2024-04-01  4061.192  3154.321           3.833333        5.330000   \n",
       "225 2024-07-01  4163.975  3220.292           4.000000        5.330000   \n",
       "226 2024-10-01  4141.013  3220.929           4.166667        5.264783   \n",
       "\n",
       "     Gov Expenditures  Core CPI        GDP  \n",
       "217          6068.545  5.022476  26272.011  \n",
       "218          6181.478  5.963509  26734.277  \n",
       "219          6317.107  6.430481  27164.359  \n",
       "220          6409.685  6.468520  27453.815  \n",
       "221          6444.696  5.945127  27967.697  \n",
       "222          6527.403  5.176014  28296.967  \n",
       "223          6619.838  4.710545  28624.069  \n",
       "224          6772.827  4.501388  29016.714  \n",
       "225          6864.587  4.312833  29374.914  \n",
       "226          7052.115  4.101509  29723.864  "
      ]
     },
     "execution_count": 15,
     "metadata": {},
     "output_type": "execute_result"
    }
   ],
   "source": [
    "# merge data along date index\n",
    "data = pd.merge(Imports, Exports, on='Date')\n",
    "data = pd.merge(data, Unemployment_Rate, on='Date')\n",
    "data = pd.merge(data, FFR, on='Date')   \n",
    "data = pd.merge(data, Gov_Expenditures, on='Date')\n",
    "data = pd.merge(data, Core_CPI, on='Date')\n",
    "data = pd.merge(data, GDP, on='Date')\n",
    "data = data.set_index('Date')\n",
    "data.reset_index(inplace=True)\n",
    "data.tail(10)"
   ]
  },
  {
   "cell_type": "code",
   "execution_count": 16,
   "metadata": {},
   "outputs": [
    {
     "name": "stdout",
     "output_type": "stream",
     "text": [
      "Defaulting to user installation because normal site-packages is not writeable\n",
      "Requirement already satisfied: statsmodels in c:\\users\\wfpin\\appdata\\local\\packages\\pythonsoftwarefoundation.python.3.13_qbz5n2kfra8p0\\localcache\\local-packages\\python313\\site-packages (0.14.4)\n",
      "Requirement already satisfied: numpy<3,>=1.22.3 in c:\\users\\wfpin\\appdata\\local\\packages\\pythonsoftwarefoundation.python.3.13_qbz5n2kfra8p0\\localcache\\local-packages\\python313\\site-packages (from statsmodels) (2.2.4)\n",
      "Requirement already satisfied: scipy!=1.9.2,>=1.8 in c:\\users\\wfpin\\appdata\\local\\packages\\pythonsoftwarefoundation.python.3.13_qbz5n2kfra8p0\\localcache\\local-packages\\python313\\site-packages (from statsmodels) (1.15.2)\n",
      "Requirement already satisfied: pandas!=2.1.0,>=1.4 in c:\\users\\wfpin\\appdata\\local\\packages\\pythonsoftwarefoundation.python.3.13_qbz5n2kfra8p0\\localcache\\local-packages\\python313\\site-packages (from statsmodels) (2.2.3)\n",
      "Requirement already satisfied: patsy>=0.5.6 in c:\\users\\wfpin\\appdata\\local\\packages\\pythonsoftwarefoundation.python.3.13_qbz5n2kfra8p0\\localcache\\local-packages\\python313\\site-packages (from statsmodels) (1.0.1)\n",
      "Requirement already satisfied: packaging>=21.3 in c:\\users\\wfpin\\appdata\\local\\packages\\pythonsoftwarefoundation.python.3.13_qbz5n2kfra8p0\\localcache\\local-packages\\python313\\site-packages (from statsmodels) (24.2)\n",
      "Requirement already satisfied: python-dateutil>=2.8.2 in c:\\users\\wfpin\\appdata\\local\\packages\\pythonsoftwarefoundation.python.3.13_qbz5n2kfra8p0\\localcache\\local-packages\\python313\\site-packages (from pandas!=2.1.0,>=1.4->statsmodels) (2.9.0.post0)\n",
      "Requirement already satisfied: pytz>=2020.1 in c:\\users\\wfpin\\appdata\\local\\packages\\pythonsoftwarefoundation.python.3.13_qbz5n2kfra8p0\\localcache\\local-packages\\python313\\site-packages (from pandas!=2.1.0,>=1.4->statsmodels) (2025.1)\n",
      "Requirement already satisfied: tzdata>=2022.7 in c:\\users\\wfpin\\appdata\\local\\packages\\pythonsoftwarefoundation.python.3.13_qbz5n2kfra8p0\\localcache\\local-packages\\python313\\site-packages (from pandas!=2.1.0,>=1.4->statsmodels) (2025.1)\n",
      "Requirement already satisfied: six>=1.5 in c:\\users\\wfpin\\appdata\\local\\packages\\pythonsoftwarefoundation.python.3.13_qbz5n2kfra8p0\\localcache\\local-packages\\python313\\site-packages (from python-dateutil>=2.8.2->pandas!=2.1.0,>=1.4->statsmodels) (1.17.0)\n",
      "Note: you may need to restart the kernel to use updated packages.\n"
     ]
    }
   ],
   "source": [
    "%pip install statsmodels"
   ]
  },
  {
   "cell_type": "code",
   "execution_count": 26,
   "metadata": {},
   "outputs": [
    {
     "data": {
      "text/plain": [
       "[<matplotlib.lines.Line2D at 0x19223bd6210>]"
      ]
     },
     "execution_count": 26,
     "metadata": {},
     "output_type": "execute_result"
    },
    {
     "data": {
      "image/png": "[encoded data removed]",
      "text/plain": [
       "<Figure size 640x480 with 1 Axes>"
      ]
     },
     "metadata": {},
     "output_type": "display_data"
    }
   ],
   "source": [
    "import matplotlib.pyplot as plt\n",
    "plt.plot(data['Date'], data['GDP'])"
   ]
  },
  {
   "cell_type": "code",
   "execution_count": null,
   "metadata": {},
   "outputs": [],
   "source": [
    "# first train an autoregressive model and examine the model\n",
    "from statsmodels.tsa.ar_model import AutoReg"
   ]
  },
  {
   "cell_type": "code",
   "execution_count": 68,
   "metadata": {},
   "outputs": [
    {
     "name": "stdout",
     "output_type": "stream",
     "text": [
      "AIC: 3030.943\n",
      "38056.40415810973\n"
     ]
    }
   ],
   "source": [
    "# number of lags\n",
    "p = 4\n",
    "\n",
    "# fit the autoregressive model - p = 4 generates the lowest MSE during training\n",
    "# as well as the lowest AIC\n",
    "model1 = AutoReg(data['GDP'], lags=p, seasonal=False, trend='c').fit()\n",
    "out = 'AIC: {:.3f}'\n",
    "print(out.format(model1.aic))\n",
    "\n",
    "# check mse\n",
    "predictions = model1.predict(start=p, end=len(data)-1)\n",
    "print(((data['GDP'].iloc[p:] - predictions)**2).mean())"
   ]
  },
  {
   "cell_type": "code",
   "execution_count": 69,
   "metadata": {},
   "outputs": [
    {
     "name": "stdout",
     "output_type": "stream",
     "text": [
      "p-value: 1.0\n"
     ]
    }
   ],
   "source": [
    "# now try a more complex model with more variables - ARIMAX\n",
    "# see if it performs better than the autoregressive model\n",
    "\n",
    "# first check for stationarity of the data\n",
    "from statsmodels.tsa.stattools import adfuller\n",
    "print('p-value:', adfuller(data['GDP'])[1])"
   ]
  },
  {
   "cell_type": "code",
   "execution_count": 72,
   "metadata": {},
   "outputs": [
    {
     "name": "stdout",
     "output_type": "stream",
     "text": [
      "p-value: 0.003948120143373456\n"
     ]
    }
   ],
   "source": [
    "# determine d value\n",
    "# try differencing by 1\n",
    "d1 = data['GDP'].diff().dropna()\n",
    "print('p-value:', adfuller(d1)[1])"
   ]
  },
  {
   "cell_type": "code",
   "execution_count": 74,
   "metadata": {},
   "outputs": [],
   "source": [
    "from statsmodels.tsa.arima.model import ARIMA\n",
    "import numpy as np"
   ]
  },
  {
   "cell_type": "code",
   "execution_count": 100,
   "metadata": {},
   "outputs": [
    {
     "data": {
      "text/html": [
       "<div>\n",
       "<style scoped>\n",
       "    .dataframe tbody tr th:only-of-type {\n",
       "        vertical-align: middle;\n",
       "    }\n",
       "\n",
       "    .dataframe tbody tr th {\n",
       "        vertical-align: top;\n",
       "    }\n",
       "\n",
       "    .dataframe thead th {\n",
       "        text-align: right;\n",
       "    }\n",
       "</style>\n",
       "<table border=\"1\" class=\"dataframe\">\n",
       "  <thead>\n",
       "    <tr style=\"text-align: right;\">\n",
       "      <th></th>\n",
       "      <th>Imports</th>\n",
       "      <th>Exports</th>\n",
       "      <th>Unemployment Rate</th>\n",
       "      <th>Fed Funds Rate</th>\n",
       "      <th>Gov Expenditures</th>\n",
       "      <th>Core CPI</th>\n",
       "    </tr>\n",
       "  </thead>\n",
       "  <tbody>\n",
       "    <tr>\n",
       "      <th>0</th>\n",
       "      <td>-1.120256</td>\n",
       "      <td>-1.126773</td>\n",
       "      <td>-1.306673</td>\n",
       "      <td>-0.049957</td>\n",
       "      <td>-1.095122</td>\n",
       "      <td>-0.189483</td>\n",
       "    </tr>\n",
       "    <tr>\n",
       "      <th>1</th>\n",
       "      <td>-1.117925</td>\n",
       "      <td>-1.123857</td>\n",
       "      <td>-1.402430</td>\n",
       "      <td>0.261270</td>\n",
       "      <td>-1.091743</td>\n",
       "      <td>-0.025030</td>\n",
       "    </tr>\n",
       "    <tr>\n",
       "      <th>2</th>\n",
       "      <td>-1.117983</td>\n",
       "      <td>-1.124686</td>\n",
       "      <td>-1.421581</td>\n",
       "      <td>0.251407</td>\n",
       "      <td>-1.090385</td>\n",
       "      <td>0.206171</td>\n",
       "    </tr>\n",
       "    <tr>\n",
       "      <th>3</th>\n",
       "      <td>-1.121586</td>\n",
       "      <td>-1.130114</td>\n",
       "      <td>-1.498186</td>\n",
       "      <td>0.243998</td>\n",
       "      <td>-1.088281</td>\n",
       "      <td>0.410264</td>\n",
       "    </tr>\n",
       "    <tr>\n",
       "      <th>4</th>\n",
       "      <td>-1.114269</td>\n",
       "      <td>-1.119703</td>\n",
       "      <td>-1.498186</td>\n",
       "      <td>0.413576</td>\n",
       "      <td>-1.089396</td>\n",
       "      <td>0.576108</td>\n",
       "    </tr>\n",
       "  </tbody>\n",
       "</table>\n",
       "</div>"
      ],
      "text/plain": [
       "    Imports   Exports  Unemployment Rate  Fed Funds Rate  Gov Expenditures  \\\n",
       "0 -1.120256 -1.126773          -1.306673       -0.049957         -1.095122   \n",
       "1 -1.117925 -1.123857          -1.402430        0.261270         -1.091743   \n",
       "2 -1.117983 -1.124686          -1.421581        0.251407         -1.090385   \n",
       "3 -1.121586 -1.130114          -1.498186        0.243998         -1.088281   \n",
       "4 -1.114269 -1.119703          -1.498186        0.413576         -1.089396   \n",
       "\n",
       "   Core CPI  \n",
       "0 -0.189483  \n",
       "1 -0.025030  \n",
       "2  0.206171  \n",
       "3  0.410264  \n",
       "4  0.576108  "
      ]
     },
     "execution_count": 100,
     "metadata": {},
     "output_type": "execute_result"
    }
   ],
   "source": [
    "# data preprocessing of exogenous variables\n",
    "exogenous_vars = data.drop(columns=['Date', 'GDP'])\n",
    "\n",
    "# standardize exogenous variables\n",
    "def standardize(data):\n",
    "    return (data - data.mean()) / data.std()\n",
    "for col in exogenous_vars.columns:\n",
    "    exogenous_vars[col] = standardize(exogenous_vars[col])\n",
    "exogenous_vars.head()"
   ]
  },
  {
   "cell_type": "code",
   "execution_count": null,
   "metadata": {},
   "outputs": [
    {
     "name": "stderr",
     "output_type": "stream",
     "text": [
      "C:\\Users\\wfpin\\AppData\\Local\\Packages\\PythonSoftwareFoundation.Python.3.13_qbz5n2kfra8p0\\LocalCache\\local-packages\\Python313\\site-packages\\statsmodels\\tsa\\statespace\\sarimax.py:966: UserWarning: Non-stationary starting autoregressive parameters found. Using zeros as starting parameters.\n",
      "  warn('Non-stationary starting autoregressive parameters'\n",
      "C:\\Users\\wfpin\\AppData\\Local\\Packages\\PythonSoftwareFoundation.Python.3.13_qbz5n2kfra8p0\\LocalCache\\local-packages\\Python313\\site-packages\\statsmodels\\base\\model.py:607: ConvergenceWarning: Maximum Likelihood optimization failed to converge. Check mle_retvals\n",
      "  warnings.warn(\"Maximum Likelihood optimization failed to \"\n",
      "C:\\Users\\wfpin\\AppData\\Local\\Packages\\PythonSoftwareFoundation.Python.3.13_qbz5n2kfra8p0\\LocalCache\\local-packages\\Python313\\site-packages\\statsmodels\\tsa\\statespace\\sarimax.py:966: UserWarning: Non-stationary starting autoregressive parameters found. Using zeros as starting parameters.\n",
      "  warn('Non-stationary starting autoregressive parameters'\n"
     ]
    },
    {
     "name": "stdout",
     "output_type": "stream",
     "text": [
      "p: 4 q: 4 AIC: 2689.045058173846\n"
     ]
    },
    {
     "name": "stderr",
     "output_type": "stream",
     "text": [
      "C:\\Users\\wfpin\\AppData\\Local\\Packages\\PythonSoftwareFoundation.Python.3.13_qbz5n2kfra8p0\\LocalCache\\local-packages\\Python313\\site-packages\\statsmodels\\base\\model.py:607: ConvergenceWarning: Maximum Likelihood optimization failed to converge. Check mle_retvals\n",
      "  warnings.warn(\"Maximum Likelihood optimization failed to \"\n"
     ]
    },
    {
     "name": "stdout",
     "output_type": "stream",
     "text": [
      "p: 4 q: 8 AIC: 2693.274119848449\n"
     ]
    },
    {
     "name": "stderr",
     "output_type": "stream",
     "text": [
      "C:\\Users\\wfpin\\AppData\\Local\\Packages\\PythonSoftwareFoundation.Python.3.13_qbz5n2kfra8p0\\LocalCache\\local-packages\\Python313\\site-packages\\statsmodels\\base\\model.py:607: ConvergenceWarning: Maximum Likelihood optimization failed to converge. Check mle_retvals\n",
      "  warnings.warn(\"Maximum Likelihood optimization failed to \"\n"
     ]
    },
    {
     "name": "stdout",
     "output_type": "stream",
     "text": [
      "p: 4 q: 12 AIC: 2697.4251213035227\n"
     ]
    },
    {
     "name": "stderr",
     "output_type": "stream",
     "text": [
      "C:\\Users\\wfpin\\AppData\\Local\\Packages\\PythonSoftwareFoundation.Python.3.13_qbz5n2kfra8p0\\LocalCache\\local-packages\\Python313\\site-packages\\statsmodels\\base\\model.py:607: ConvergenceWarning: Maximum Likelihood optimization failed to converge. Check mle_retvals\n",
      "  warnings.warn(\"Maximum Likelihood optimization failed to \"\n"
     ]
    },
    {
     "name": "stdout",
     "output_type": "stream",
     "text": [
      "p: 4 q: 16 AIC: 2696.087211689214\n"
     ]
    },
    {
     "name": "stderr",
     "output_type": "stream",
     "text": [
      "C:\\Users\\wfpin\\AppData\\Local\\Packages\\PythonSoftwareFoundation.Python.3.13_qbz5n2kfra8p0\\LocalCache\\local-packages\\Python313\\site-packages\\statsmodels\\base\\model.py:607: ConvergenceWarning: Maximum Likelihood optimization failed to converge. Check mle_retvals\n",
      "  warnings.warn(\"Maximum Likelihood optimization failed to \"\n",
      "C:\\Users\\wfpin\\AppData\\Local\\Packages\\PythonSoftwareFoundation.Python.3.13_qbz5n2kfra8p0\\LocalCache\\local-packages\\Python313\\site-packages\\statsmodels\\tsa\\statespace\\sarimax.py:966: UserWarning: Non-stationary starting autoregressive parameters found. Using zeros as starting parameters.\n",
      "  warn('Non-stationary starting autoregressive parameters'\n",
      "C:\\Users\\wfpin\\AppData\\Local\\Packages\\PythonSoftwareFoundation.Python.3.13_qbz5n2kfra8p0\\LocalCache\\local-packages\\Python313\\site-packages\\statsmodels\\tsa\\statespace\\sarimax.py:978: UserWarning: Non-invertible starting MA parameters found. Using zeros as starting parameters.\n",
      "  warn('Non-invertible starting MA parameters found.'\n"
     ]
    },
    {
     "name": "stdout",
     "output_type": "stream",
     "text": [
      "p: 4 q: 20 AIC: 2694.998517167646\n"
     ]
    },
    {
     "name": "stderr",
     "output_type": "stream",
     "text": [
      "C:\\Users\\wfpin\\AppData\\Local\\Packages\\PythonSoftwareFoundation.Python.3.13_qbz5n2kfra8p0\\LocalCache\\local-packages\\Python313\\site-packages\\statsmodels\\base\\model.py:607: ConvergenceWarning: Maximum Likelihood optimization failed to converge. Check mle_retvals\n",
      "  warnings.warn(\"Maximum Likelihood optimization failed to \"\n",
      "C:\\Users\\wfpin\\AppData\\Local\\Packages\\PythonSoftwareFoundation.Python.3.13_qbz5n2kfra8p0\\LocalCache\\local-packages\\Python313\\site-packages\\statsmodels\\tsa\\statespace\\sarimax.py:966: UserWarning: Non-stationary starting autoregressive parameters found. Using zeros as starting parameters.\n",
      "  warn('Non-stationary starting autoregressive parameters'\n"
     ]
    },
    {
     "name": "stdout",
     "output_type": "stream",
     "text": [
      "p: 8 q: 4 AIC: 2693.0594180076723\n"
     ]
    },
    {
     "name": "stderr",
     "output_type": "stream",
     "text": [
      "C:\\Users\\wfpin\\AppData\\Local\\Packages\\PythonSoftwareFoundation.Python.3.13_qbz5n2kfra8p0\\LocalCache\\local-packages\\Python313\\site-packages\\statsmodels\\base\\model.py:607: ConvergenceWarning: Maximum Likelihood optimization failed to converge. Check mle_retvals\n",
      "  warnings.warn(\"Maximum Likelihood optimization failed to \"\n",
      "C:\\Users\\wfpin\\AppData\\Local\\Packages\\PythonSoftwareFoundation.Python.3.13_qbz5n2kfra8p0\\LocalCache\\local-packages\\Python313\\site-packages\\statsmodels\\tsa\\statespace\\sarimax.py:966: UserWarning: Non-stationary starting autoregressive parameters found. Using zeros as starting parameters.\n",
      "  warn('Non-stationary starting autoregressive parameters'\n"
     ]
    },
    {
     "name": "stdout",
     "output_type": "stream",
     "text": [
      "p: 8 q: 8 AIC: 2696.825014137297\n"
     ]
    },
    {
     "name": "stderr",
     "output_type": "stream",
     "text": [
      "C:\\Users\\wfpin\\AppData\\Local\\Packages\\PythonSoftwareFoundation.Python.3.13_qbz5n2kfra8p0\\LocalCache\\local-packages\\Python313\\site-packages\\statsmodels\\base\\model.py:607: ConvergenceWarning: Maximum Likelihood optimization failed to converge. Check mle_retvals\n",
      "  warnings.warn(\"Maximum Likelihood optimization failed to \"\n"
     ]
    },
    {
     "name": "stdout",
     "output_type": "stream",
     "text": [
      "p: 8 q: 12 AIC: 2703.497425545034\n"
     ]
    },
    {
     "name": "stderr",
     "output_type": "stream",
     "text": [
      "C:\\Users\\wfpin\\AppData\\Local\\Packages\\PythonSoftwareFoundation.Python.3.13_qbz5n2kfra8p0\\LocalCache\\local-packages\\Python313\\site-packages\\statsmodels\\base\\model.py:607: ConvergenceWarning: Maximum Likelihood optimization failed to converge. Check mle_retvals\n",
      "  warnings.warn(\"Maximum Likelihood optimization failed to \"\n",
      "C:\\Users\\wfpin\\AppData\\Local\\Packages\\PythonSoftwareFoundation.Python.3.13_qbz5n2kfra8p0\\LocalCache\\local-packages\\Python313\\site-packages\\statsmodels\\tsa\\statespace\\sarimax.py:966: UserWarning: Non-stationary starting autoregressive parameters found. Using zeros as starting parameters.\n",
      "  warn('Non-stationary starting autoregressive parameters'\n"
     ]
    },
    {
     "name": "stdout",
     "output_type": "stream",
     "text": [
      "p: 8 q: 16 AIC: 2706.0747581628434\n"
     ]
    },
    {
     "name": "stderr",
     "output_type": "stream",
     "text": [
      "C:\\Users\\wfpin\\AppData\\Local\\Packages\\PythonSoftwareFoundation.Python.3.13_qbz5n2kfra8p0\\LocalCache\\local-packages\\Python313\\site-packages\\statsmodels\\base\\model.py:607: ConvergenceWarning: Maximum Likelihood optimization failed to converge. Check mle_retvals\n",
      "  warnings.warn(\"Maximum Likelihood optimization failed to \"\n",
      "C:\\Users\\wfpin\\AppData\\Local\\Packages\\PythonSoftwareFoundation.Python.3.13_qbz5n2kfra8p0\\LocalCache\\local-packages\\Python313\\site-packages\\statsmodels\\tsa\\statespace\\sarimax.py:966: UserWarning: Non-stationary starting autoregressive parameters found. Using zeros as starting parameters.\n",
      "  warn('Non-stationary starting autoregressive parameters'\n"
     ]
    },
    {
     "name": "stdout",
     "output_type": "stream",
     "text": [
      "p: 8 q: 20 AIC: 2706.715275998785\n"
     ]
    },
    {
     "name": "stderr",
     "output_type": "stream",
     "text": [
      "C:\\Users\\wfpin\\AppData\\Local\\Packages\\PythonSoftwareFoundation.Python.3.13_qbz5n2kfra8p0\\LocalCache\\local-packages\\Python313\\site-packages\\statsmodels\\base\\model.py:607: ConvergenceWarning: Maximum Likelihood optimization failed to converge. Check mle_retvals\n",
      "  warnings.warn(\"Maximum Likelihood optimization failed to \"\n",
      "C:\\Users\\wfpin\\AppData\\Local\\Packages\\PythonSoftwareFoundation.Python.3.13_qbz5n2kfra8p0\\LocalCache\\local-packages\\Python313\\site-packages\\statsmodels\\tsa\\statespace\\sarimax.py:966: UserWarning: Non-stationary starting autoregressive parameters found. Using zeros as starting parameters.\n",
      "  warn('Non-stationary starting autoregressive parameters'\n",
      "C:\\Users\\wfpin\\AppData\\Local\\Packages\\PythonSoftwareFoundation.Python.3.13_qbz5n2kfra8p0\\LocalCache\\local-packages\\Python313\\site-packages\\statsmodels\\tsa\\statespace\\sarimax.py:978: UserWarning: Non-invertible starting MA parameters found. Using zeros as starting parameters.\n",
      "  warn('Non-invertible starting MA parameters found.'\n"
     ]
    },
    {
     "name": "stdout",
     "output_type": "stream",
     "text": [
      "p: 12 q: 4 AIC: 2696.055014039878\n"
     ]
    },
    {
     "name": "stderr",
     "output_type": "stream",
     "text": [
      "C:\\Users\\wfpin\\AppData\\Local\\Packages\\PythonSoftwareFoundation.Python.3.13_qbz5n2kfra8p0\\LocalCache\\local-packages\\Python313\\site-packages\\statsmodels\\base\\model.py:607: ConvergenceWarning: Maximum Likelihood optimization failed to converge. Check mle_retvals\n",
      "  warnings.warn(\"Maximum Likelihood optimization failed to \"\n",
      "C:\\Users\\wfpin\\AppData\\Local\\Packages\\PythonSoftwareFoundation.Python.3.13_qbz5n2kfra8p0\\LocalCache\\local-packages\\Python313\\site-packages\\statsmodels\\tsa\\statespace\\sarimax.py:966: UserWarning: Non-stationary starting autoregressive parameters found. Using zeros as starting parameters.\n",
      "  warn('Non-stationary starting autoregressive parameters'\n"
     ]
    },
    {
     "name": "stdout",
     "output_type": "stream",
     "text": [
      "p: 12 q: 8 AIC: 2701.4007991529797\n"
     ]
    },
    {
     "name": "stderr",
     "output_type": "stream",
     "text": [
      "C:\\Users\\wfpin\\AppData\\Local\\Packages\\PythonSoftwareFoundation.Python.3.13_qbz5n2kfra8p0\\LocalCache\\local-packages\\Python313\\site-packages\\statsmodels\\base\\model.py:607: ConvergenceWarning: Maximum Likelihood optimization failed to converge. Check mle_retvals\n",
      "  warnings.warn(\"Maximum Likelihood optimization failed to \"\n",
      "C:\\Users\\wfpin\\AppData\\Local\\Packages\\PythonSoftwareFoundation.Python.3.13_qbz5n2kfra8p0\\LocalCache\\local-packages\\Python313\\site-packages\\statsmodels\\tsa\\statespace\\sarimax.py:966: UserWarning: Non-stationary starting autoregressive parameters found. Using zeros as starting parameters.\n",
      "  warn('Non-stationary starting autoregressive parameters'\n"
     ]
    },
    {
     "name": "stdout",
     "output_type": "stream",
     "text": [
      "p: 12 q: 12 AIC: 2706.0760564776997\n"
     ]
    },
    {
     "name": "stderr",
     "output_type": "stream",
     "text": [
      "C:\\Users\\wfpin\\AppData\\Local\\Packages\\PythonSoftwareFoundation.Python.3.13_qbz5n2kfra8p0\\LocalCache\\local-packages\\Python313\\site-packages\\statsmodels\\base\\model.py:607: ConvergenceWarning: Maximum Likelihood optimization failed to converge. Check mle_retvals\n",
      "  warnings.warn(\"Maximum Likelihood optimization failed to \"\n"
     ]
    },
    {
     "name": "stdout",
     "output_type": "stream",
     "text": [
      "p: 12 q: 16 AIC: 2713.932961268785\n"
     ]
    },
    {
     "name": "stderr",
     "output_type": "stream",
     "text": [
      "C:\\Users\\wfpin\\AppData\\Local\\Packages\\PythonSoftwareFoundation.Python.3.13_qbz5n2kfra8p0\\LocalCache\\local-packages\\Python313\\site-packages\\statsmodels\\tsa\\statespace\\sarimax.py:966: UserWarning: Non-stationary starting autoregressive parameters found. Using zeros as starting parameters.\n",
      "  warn('Non-stationary starting autoregressive parameters'\n",
      "C:\\Users\\wfpin\\AppData\\Local\\Packages\\PythonSoftwareFoundation.Python.3.13_qbz5n2kfra8p0\\LocalCache\\local-packages\\Python313\\site-packages\\statsmodels\\tsa\\statespace\\sarimax.py:978: UserWarning: Non-invertible starting MA parameters found. Using zeros as starting parameters.\n",
      "  warn('Non-invertible starting MA parameters found.'\n",
      "C:\\Users\\wfpin\\AppData\\Local\\Packages\\PythonSoftwareFoundation.Python.3.13_qbz5n2kfra8p0\\LocalCache\\local-packages\\Python313\\site-packages\\statsmodels\\base\\model.py:607: ConvergenceWarning: Maximum Likelihood optimization failed to converge. Check mle_retvals\n",
      "  warnings.warn(\"Maximum Likelihood optimization failed to \"\n",
      "C:\\Users\\wfpin\\AppData\\Local\\Packages\\PythonSoftwareFoundation.Python.3.13_qbz5n2kfra8p0\\LocalCache\\local-packages\\Python313\\site-packages\\statsmodels\\tsa\\statespace\\sarimax.py:966: UserWarning: Non-stationary starting autoregressive parameters found. Using zeros as starting parameters.\n",
      "  warn('Non-stationary starting autoregressive parameters'\n"
     ]
    },
    {
     "name": "stdout",
     "output_type": "stream",
     "text": [
      "p: 12 q: 20 AIC: 2710.0306641524844\n"
     ]
    },
    {
     "name": "stderr",
     "output_type": "stream",
     "text": [
      "C:\\Users\\wfpin\\AppData\\Local\\Packages\\PythonSoftwareFoundation.Python.3.13_qbz5n2kfra8p0\\LocalCache\\local-packages\\Python313\\site-packages\\statsmodels\\base\\model.py:607: ConvergenceWarning: Maximum Likelihood optimization failed to converge. Check mle_retvals\n",
      "  warnings.warn(\"Maximum Likelihood optimization failed to \"\n",
      "C:\\Users\\wfpin\\AppData\\Local\\Packages\\PythonSoftwareFoundation.Python.3.13_qbz5n2kfra8p0\\LocalCache\\local-packages\\Python313\\site-packages\\statsmodels\\tsa\\statespace\\sarimax.py:966: UserWarning: Non-stationary starting autoregressive parameters found. Using zeros as starting parameters.\n",
      "  warn('Non-stationary starting autoregressive parameters'\n",
      "C:\\Users\\wfpin\\AppData\\Local\\Packages\\PythonSoftwareFoundation.Python.3.13_qbz5n2kfra8p0\\LocalCache\\local-packages\\Python313\\site-packages\\statsmodels\\tsa\\statespace\\sarimax.py:978: UserWarning: Non-invertible starting MA parameters found. Using zeros as starting parameters.\n",
      "  warn('Non-invertible starting MA parameters found.'\n"
     ]
    },
    {
     "name": "stdout",
     "output_type": "stream",
     "text": [
      "p: 16 q: 4 AIC: 2696.9011776656907\n"
     ]
    },
    {
     "name": "stderr",
     "output_type": "stream",
     "text": [
      "C:\\Users\\wfpin\\AppData\\Local\\Packages\\PythonSoftwareFoundation.Python.3.13_qbz5n2kfra8p0\\LocalCache\\local-packages\\Python313\\site-packages\\statsmodels\\base\\model.py:607: ConvergenceWarning: Maximum Likelihood optimization failed to converge. Check mle_retvals\n",
      "  warnings.warn(\"Maximum Likelihood optimization failed to \"\n",
      "C:\\Users\\wfpin\\AppData\\Local\\Packages\\PythonSoftwareFoundation.Python.3.13_qbz5n2kfra8p0\\LocalCache\\local-packages\\Python313\\site-packages\\statsmodels\\tsa\\statespace\\sarimax.py:966: UserWarning: Non-stationary starting autoregressive parameters found. Using zeros as starting parameters.\n",
      "  warn('Non-stationary starting autoregressive parameters'\n"
     ]
    },
    {
     "name": "stdout",
     "output_type": "stream",
     "text": [
      "p: 16 q: 8 AIC: 2697.9444853627256\n"
     ]
    },
    {
     "name": "stderr",
     "output_type": "stream",
     "text": [
      "C:\\Users\\wfpin\\AppData\\Local\\Packages\\PythonSoftwareFoundation.Python.3.13_qbz5n2kfra8p0\\LocalCache\\local-packages\\Python313\\site-packages\\statsmodels\\base\\model.py:607: ConvergenceWarning: Maximum Likelihood optimization failed to converge. Check mle_retvals\n",
      "  warnings.warn(\"Maximum Likelihood optimization failed to \"\n",
      "C:\\Users\\wfpin\\AppData\\Local\\Packages\\PythonSoftwareFoundation.Python.3.13_qbz5n2kfra8p0\\LocalCache\\local-packages\\Python313\\site-packages\\statsmodels\\tsa\\statespace\\sarimax.py:966: UserWarning: Non-stationary starting autoregressive parameters found. Using zeros as starting parameters.\n",
      "  warn('Non-stationary starting autoregressive parameters'\n"
     ]
    },
    {
     "name": "stdout",
     "output_type": "stream",
     "text": [
      "p: 16 q: 12 AIC: 2705.8568765594173\n"
     ]
    },
    {
     "name": "stderr",
     "output_type": "stream",
     "text": [
      "C:\\Users\\wfpin\\AppData\\Local\\Packages\\PythonSoftwareFoundation.Python.3.13_qbz5n2kfra8p0\\LocalCache\\local-packages\\Python313\\site-packages\\statsmodels\\base\\model.py:607: ConvergenceWarning: Maximum Likelihood optimization failed to converge. Check mle_retvals\n",
      "  warnings.warn(\"Maximum Likelihood optimization failed to \"\n",
      "C:\\Users\\wfpin\\AppData\\Local\\Packages\\PythonSoftwareFoundation.Python.3.13_qbz5n2kfra8p0\\LocalCache\\local-packages\\Python313\\site-packages\\statsmodels\\tsa\\statespace\\sarimax.py:966: UserWarning: Non-stationary starting autoregressive parameters found. Using zeros as starting parameters.\n",
      "  warn('Non-stationary starting autoregressive parameters'\n",
      "C:\\Users\\wfpin\\AppData\\Local\\Packages\\PythonSoftwareFoundation.Python.3.13_qbz5n2kfra8p0\\LocalCache\\local-packages\\Python313\\site-packages\\statsmodels\\tsa\\statespace\\sarimax.py:978: UserWarning: Non-invertible starting MA parameters found. Using zeros as starting parameters.\n",
      "  warn('Non-invertible starting MA parameters found.'\n"
     ]
    },
    {
     "name": "stdout",
     "output_type": "stream",
     "text": [
      "p: 16 q: 16 AIC: 2717.6194691186556\n"
     ]
    },
    {
     "name": "stderr",
     "output_type": "stream",
     "text": [
      "C:\\Users\\wfpin\\AppData\\Local\\Packages\\PythonSoftwareFoundation.Python.3.13_qbz5n2kfra8p0\\LocalCache\\local-packages\\Python313\\site-packages\\statsmodels\\base\\model.py:607: ConvergenceWarning: Maximum Likelihood optimization failed to converge. Check mle_retvals\n",
      "  warnings.warn(\"Maximum Likelihood optimization failed to \"\n",
      "C:\\Users\\wfpin\\AppData\\Local\\Packages\\PythonSoftwareFoundation.Python.3.13_qbz5n2kfra8p0\\LocalCache\\local-packages\\Python313\\site-packages\\statsmodels\\tsa\\statespace\\sarimax.py:966: UserWarning: Non-stationary starting autoregressive parameters found. Using zeros as starting parameters.\n",
      "  warn('Non-stationary starting autoregressive parameters'\n"
     ]
    },
    {
     "name": "stdout",
     "output_type": "stream",
     "text": [
      "p: 16 q: 20 AIC: 2713.119246827875\n"
     ]
    },
    {
     "name": "stderr",
     "output_type": "stream",
     "text": [
      "C:\\Users\\wfpin\\AppData\\Local\\Packages\\PythonSoftwareFoundation.Python.3.13_qbz5n2kfra8p0\\LocalCache\\local-packages\\Python313\\site-packages\\statsmodels\\base\\model.py:607: ConvergenceWarning: Maximum Likelihood optimization failed to converge. Check mle_retvals\n",
      "  warnings.warn(\"Maximum Likelihood optimization failed to \"\n",
      "C:\\Users\\wfpin\\AppData\\Local\\Packages\\PythonSoftwareFoundation.Python.3.13_qbz5n2kfra8p0\\LocalCache\\local-packages\\Python313\\site-packages\\statsmodels\\tsa\\statespace\\sarimax.py:966: UserWarning: Non-stationary starting autoregressive parameters found. Using zeros as starting parameters.\n",
      "  warn('Non-stationary starting autoregressive parameters'\n",
      "C:\\Users\\wfpin\\AppData\\Local\\Packages\\PythonSoftwareFoundation.Python.3.13_qbz5n2kfra8p0\\LocalCache\\local-packages\\Python313\\site-packages\\statsmodels\\tsa\\statespace\\sarimax.py:978: UserWarning: Non-invertible starting MA parameters found. Using zeros as starting parameters.\n",
      "  warn('Non-invertible starting MA parameters found.'\n"
     ]
    },
    {
     "name": "stdout",
     "output_type": "stream",
     "text": [
      "p: 20 q: 4 AIC: 2697.739449511021\n"
     ]
    },
    {
     "name": "stderr",
     "output_type": "stream",
     "text": [
      "C:\\Users\\wfpin\\AppData\\Local\\Packages\\PythonSoftwareFoundation.Python.3.13_qbz5n2kfra8p0\\LocalCache\\local-packages\\Python313\\site-packages\\statsmodels\\base\\model.py:607: ConvergenceWarning: Maximum Likelihood optimization failed to converge. Check mle_retvals\n",
      "  warnings.warn(\"Maximum Likelihood optimization failed to \"\n",
      "C:\\Users\\wfpin\\AppData\\Local\\Packages\\PythonSoftwareFoundation.Python.3.13_qbz5n2kfra8p0\\LocalCache\\local-packages\\Python313\\site-packages\\statsmodels\\tsa\\statespace\\sarimax.py:966: UserWarning: Non-stationary starting autoregressive parameters found. Using zeros as starting parameters.\n",
      "  warn('Non-stationary starting autoregressive parameters'\n",
      "C:\\Users\\wfpin\\AppData\\Local\\Packages\\PythonSoftwareFoundation.Python.3.13_qbz5n2kfra8p0\\LocalCache\\local-packages\\Python313\\site-packages\\statsmodels\\tsa\\statespace\\sarimax.py:978: UserWarning: Non-invertible starting MA parameters found. Using zeros as starting parameters.\n",
      "  warn('Non-invertible starting MA parameters found.'\n"
     ]
    },
    {
     "name": "stdout",
     "output_type": "stream",
     "text": [
      "p: 20 q: 8 AIC: 2703.0817741308692\n"
     ]
    },
    {
     "name": "stderr",
     "output_type": "stream",
     "text": [
      "C:\\Users\\wfpin\\AppData\\Local\\Packages\\PythonSoftwareFoundation.Python.3.13_qbz5n2kfra8p0\\LocalCache\\local-packages\\Python313\\site-packages\\statsmodels\\base\\model.py:607: ConvergenceWarning: Maximum Likelihood optimization failed to converge. Check mle_retvals\n",
      "  warnings.warn(\"Maximum Likelihood optimization failed to \"\n",
      "C:\\Users\\wfpin\\AppData\\Local\\Packages\\PythonSoftwareFoundation.Python.3.13_qbz5n2kfra8p0\\LocalCache\\local-packages\\Python313\\site-packages\\statsmodels\\tsa\\statespace\\sarimax.py:966: UserWarning: Non-stationary starting autoregressive parameters found. Using zeros as starting parameters.\n",
      "  warn('Non-stationary starting autoregressive parameters'\n",
      "C:\\Users\\wfpin\\AppData\\Local\\Packages\\PythonSoftwareFoundation.Python.3.13_qbz5n2kfra8p0\\LocalCache\\local-packages\\Python313\\site-packages\\statsmodels\\tsa\\statespace\\sarimax.py:978: UserWarning: Non-invertible starting MA parameters found. Using zeros as starting parameters.\n",
      "  warn('Non-invertible starting MA parameters found.'\n"
     ]
    },
    {
     "name": "stdout",
     "output_type": "stream",
     "text": [
      "p: 20 q: 12 AIC: 2711.802071771053\n"
     ]
    },
    {
     "name": "stderr",
     "output_type": "stream",
     "text": [
      "C:\\Users\\wfpin\\AppData\\Local\\Packages\\PythonSoftwareFoundation.Python.3.13_qbz5n2kfra8p0\\LocalCache\\local-packages\\Python313\\site-packages\\statsmodels\\base\\model.py:607: ConvergenceWarning: Maximum Likelihood optimization failed to converge. Check mle_retvals\n",
      "  warnings.warn(\"Maximum Likelihood optimization failed to \"\n",
      "C:\\Users\\wfpin\\AppData\\Local\\Packages\\PythonSoftwareFoundation.Python.3.13_qbz5n2kfra8p0\\LocalCache\\local-packages\\Python313\\site-packages\\statsmodels\\tsa\\statespace\\sarimax.py:966: UserWarning: Non-stationary starting autoregressive parameters found. Using zeros as starting parameters.\n",
      "  warn('Non-stationary starting autoregressive parameters'\n",
      "C:\\Users\\wfpin\\AppData\\Local\\Packages\\PythonSoftwareFoundation.Python.3.13_qbz5n2kfra8p0\\LocalCache\\local-packages\\Python313\\site-packages\\statsmodels\\tsa\\statespace\\sarimax.py:978: UserWarning: Non-invertible starting MA parameters found. Using zeros as starting parameters.\n",
      "  warn('Non-invertible starting MA parameters found.'\n"
     ]
    },
    {
     "name": "stdout",
     "output_type": "stream",
     "text": [
      "p: 20 q: 16 AIC: 2715.764034045882\n",
      "p: 20 q: 20 AIC: 2718.2343443246764\n",
      "Best p: 4 Best q: 4 AIC: 2689.045058173846\n",
      "Best Model:                                SARIMAX Results                                \n",
      "==============================================================================\n",
      "Dep. Variable:                    GDP   No. Observations:                  227\n",
      "Model:                 ARIMA(4, 1, 4)   Log Likelihood               -1329.523\n",
      "Date:                Wed, 09 Apr 2025   AIC                           2689.045\n",
      "Time:                        22:22:48   BIC                           2740.353\n",
      "Sample:                             0   HQIC                          2709.751\n",
      "                                - 227                                         \n",
      "Covariance Type:                  opg                                         \n",
      "=====================================================================================\n",
      "                        coef    std err          z      P>|z|      [0.025      0.975]\n",
      "-------------------------------------------------------------------------------------\n",
      "Imports             -95.0409    132.883     -0.715      0.474    -355.488     165.406\n",
      "Exports            2912.3133    140.779     20.687      0.000    2636.391    3188.236\n",
      "Unemployment Rate    -8.1949     16.857     -0.486      0.627     -41.233      24.843\n",
      "Fed Funds Rate       17.8629     43.351      0.412      0.680     -67.103     102.829\n",
      "Gov Expenditures    297.4150     30.996      9.595      0.000     236.663     358.167\n",
      "Core CPI             -0.3557     41.204     -0.009      0.993     -81.114      80.403\n",
      "ar.L1                -0.5052      0.373     -1.354      0.176      -1.237       0.226\n",
      "ar.L2                 0.6042      0.139      4.343      0.000       0.331       0.877\n",
      "ar.L3                 0.8264      0.206      4.013      0.000       0.423       1.230\n",
      "ar.L4                 0.0532      0.282      0.188      0.851      -0.500       0.607\n",
      "ma.L1                 0.8847      0.367      2.409      0.016       0.165       1.605\n",
      "ma.L2                -0.1636      0.265     -0.618      0.536      -0.682       0.355\n",
      "ma.L3                -0.9028      0.100     -9.025      0.000      -1.099      -0.707\n",
      "ma.L4                -0.2251      0.283     -0.795      0.426      -0.780       0.329\n",
      "sigma2             8108.0770    630.999     12.850      0.000    6871.341    9344.813\n",
      "===================================================================================\n",
      "Ljung-Box (L1) (Q):                   0.01   Jarque-Bera (JB):               207.22\n",
      "Prob(Q):                              0.91   Prob(JB):                         0.00\n",
      "Heteroskedasticity (H):              18.82   Skew:                             0.91\n",
      "Prob(H) (two-sided):                  0.00   Kurtosis:                         7.32\n",
      "===================================================================================\n",
      "\n",
      "Warnings:\n",
      "[1] Covariance matrix calculated using the outer product of gradients (complex-step).\n"
     ]
    },
    {
     "name": "stderr",
     "output_type": "stream",
     "text": [
      "C:\\Users\\wfpin\\AppData\\Local\\Packages\\PythonSoftwareFoundation.Python.3.13_qbz5n2kfra8p0\\LocalCache\\local-packages\\Python313\\site-packages\\statsmodels\\base\\model.py:607: ConvergenceWarning: Maximum Likelihood optimization failed to converge. Check mle_retvals\n",
      "  warnings.warn(\"Maximum Likelihood optimization failed to \"\n"
     ]
    }
   ],
   "source": [
    "# my hypothesis is that a moving average/lag of a multiple of 4\n",
    "# will be best to account for yearly trends in the quarterly GDP data\n",
    "\n",
    "# unsurprisingly, the ARIMAX model performs better than the autoregressive model\n",
    "# ARIMAX AIC = 2689.045\n",
    "# AR AIX = 3030.943\n",
    "\n",
    "# test different p and q values and save the one with lowest AIC\n",
    "AIC = np.inf\n",
    "for p in range(4,21, 4):\n",
    "    for q in range(4, 21, 4):\n",
    "        model = ARIMA(data['GDP'], exog=exogenous_vars, order=(p, 1, q)).fit()\n",
    "        print('p:', p, 'q:', q, 'AIC:', model.aic)\n",
    "        if model.aic < AIC:\n",
    "            AIC = model.aic\n",
    "            best_p = p\n",
    "            best_q = q\n",
    "            best_model = model\n",
    "print('Best p:', best_p, 'Best q:', best_q, 'AIC:', AIC)\n",
    "print('Best Model:', best_model.summary())"
   ]
  },
  {
   "cell_type": "code",
   "execution_count": null,
   "metadata": {},
   "outputs": [],
   "source": []
  }
 ],
 "metadata": {
  "kernelspec": {
   "display_name": "Python 3",
   "language": "python",
   "name": "python3"
  },
  "language_info": {
   "codemirror_mode": {
    "name": "ipython",
    "version": 3
   },
   "file_extension": ".py",
   "mimetype": "text/x-python",
   "name": "python",
   "nbconvert_exporter": "python",
   "pygments_lexer": "ipython3",
   "version": "3.13.2"
  }
 },
 "nbformat": 4,
 "nbformat_minor": 2
}
