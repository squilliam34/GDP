{
 "cells": [
  {
   "cell_type": "code",
   "execution_count": 2,
   "metadata": {},
   "outputs": [
    {
     "name": "stdout",
     "output_type": "stream",
     "text": [
      "Defaulting to user installation because normal site-packages is not writeable\n",
      "Collecting fredapi\n",
      "  Downloading fredapi-0.5.2-py3-none-any.whl.metadata (5.0 kB)\n",
      "Requirement already satisfied: pandas in c:\\users\\wfpin\\appdata\\local\\packages\\pythonsoftwarefoundation.python.3.13_qbz5n2kfra8p0\\localcache\\local-packages\\python313\\site-packages (from fredapi) (2.2.3)\n",
      "Requirement already satisfied: numpy>=1.26.0 in c:\\users\\wfpin\\appdata\\local\\packages\\pythonsoftwarefoundation.python.3.13_qbz5n2kfra8p0\\localcache\\local-packages\\python313\\site-packages (from pandas->fredapi) (2.2.4)\n",
      "Requirement already satisfied: python-dateutil>=2.8.2 in c:\\users\\wfpin\\appdata\\local\\packages\\pythonsoftwarefoundation.python.3.13_qbz5n2kfra8p0\\localcache\\local-packages\\python313\\site-packages (from pandas->fredapi) (2.9.0.post0)\n",
      "Requirement already satisfied: pytz>=2020.1 in c:\\users\\wfpin\\appdata\\local\\packages\\pythonsoftwarefoundation.python.3.13_qbz5n2kfra8p0\\localcache\\local-packages\\python313\\site-packages (from pandas->fredapi) (2025.1)\n",
      "Requirement already satisfied: tzdata>=2022.7 in c:\\users\\wfpin\\appdata\\local\\packages\\pythonsoftwarefoundation.python.3.13_qbz5n2kfra8p0\\localcache\\local-packages\\python313\\site-packages (from pandas->fredapi) (2025.1)\n",
      "Requirement already satisfied: six>=1.5 in c:\\users\\wfpin\\appdata\\local\\packages\\pythonsoftwarefoundation.python.3.13_qbz5n2kfra8p0\\localcache\\local-packages\\python313\\site-packages (from python-dateutil>=2.8.2->pandas->fredapi) (1.17.0)\n",
      "Downloading fredapi-0.5.2-py3-none-any.whl (11 kB)\n",
      "Installing collected packages: fredapi\n",
      "Successfully installed fredapi-0.5.2\n",
      "Note: you may need to restart the kernel to use updated packages.\n"
     ]
    },
    {
     "name": "stderr",
     "output_type": "stream",
     "text": [
      "\n",
      "[notice] A new release of pip is available: 24.3.1 -> 25.0.1\n",
      "[notice] To update, run: C:\\Users\\wfpin\\AppData\\Local\\Microsoft\\WindowsApps\\PythonSoftwareFoundation.Python.3.13_qbz5n2kfra8p0\\python.exe -m pip install --upgrade pip\n"
     ]
    }
   ],
   "source": [
    "%pip install fredapi"
   ]
  },
  {
   "cell_type": "code",
   "execution_count": 4,
   "metadata": {},
   "outputs": [
    {
     "name": "stdout",
     "output_type": "stream",
     "text": [
      "Defaulting to user installation because normal site-packages is not writeable\n",
      "Collecting dotenv\n",
      "  Downloading dotenv-0.9.9-py2.py3-none-any.whl.metadata (279 bytes)\n",
      "Collecting python-dotenv (from dotenv)\n",
      "  Downloading python_dotenv-1.1.0-py3-none-any.whl.metadata (24 kB)\n",
      "Downloading dotenv-0.9.9-py2.py3-none-any.whl (1.9 kB)\n",
      "Downloading python_dotenv-1.1.0-py3-none-any.whl (20 kB)\n",
      "Installing collected packages: python-dotenv, dotenv\n",
      "Successfully installed dotenv-0.9.9 python-dotenv-1.1.0\n",
      "Note: you may need to restart the kernel to use updated packages.\n"
     ]
    }
   ],
   "source": [
    "%pip install dotenv"
   ]
  },
  {
   "cell_type": "code",
   "execution_count": 5,
   "metadata": {},
   "outputs": [],
   "source": [
    "# imports for managing env variables/API keys\n",
    "import os\n",
    "from dotenv import load_dotenv"
   ]
  },
  {
   "cell_type": "code",
   "execution_count": 3,
   "metadata": {},
   "outputs": [],
   "source": [
    "# import libraries\n",
    "import pandas as pd\n",
    "from fredapi import Fred"
   ]
  },
  {
   "cell_type": "code",
   "execution_count": 10,
   "metadata": {},
   "outputs": [],
   "source": [
    "load_dotenv()\n",
    "\n",
    "api_key = os.getenv(\"API_KEY\")\n",
    "fred = Fred(api_key=api_key)"
   ]
  },
  {
   "cell_type": "code",
   "execution_count": 81,
   "metadata": {},
   "outputs": [
    {
     "data": {
      "text/html": [
       "<div>\n",
       "<style scoped>\n",
       "    .dataframe tbody tr th:only-of-type {\n",
       "        vertical-align: middle;\n",
       "    }\n",
       "\n",
       "    .dataframe tbody tr th {\n",
       "        vertical-align: top;\n",
       "    }\n",
       "\n",
       "    .dataframe thead th {\n",
       "        text-align: right;\n",
       "    }\n",
       "</style>\n",
       "<table border=\"1\" class=\"dataframe\">\n",
       "  <thead>\n",
       "    <tr style=\"text-align: right;\">\n",
       "      <th></th>\n",
       "      <th>id</th>\n",
       "      <th>realtime_start</th>\n",
       "      <th>realtime_end</th>\n",
       "      <th>title</th>\n",
       "      <th>observation_start</th>\n",
       "      <th>observation_end</th>\n",
       "      <th>frequency</th>\n",
       "      <th>frequency_short</th>\n",
       "      <th>units</th>\n",
       "      <th>units_short</th>\n",
       "      <th>seasonal_adjustment</th>\n",
       "      <th>seasonal_adjustment_short</th>\n",
       "      <th>last_updated</th>\n",
       "      <th>popularity</th>\n",
       "      <th>notes</th>\n",
       "    </tr>\n",
       "    <tr>\n",
       "      <th>series id</th>\n",
       "      <th></th>\n",
       "      <th></th>\n",
       "      <th></th>\n",
       "      <th></th>\n",
       "      <th></th>\n",
       "      <th></th>\n",
       "      <th></th>\n",
       "      <th></th>\n",
       "      <th></th>\n",
       "      <th></th>\n",
       "      <th></th>\n",
       "      <th></th>\n",
       "      <th></th>\n",
       "      <th></th>\n",
       "      <th></th>\n",
       "    </tr>\n",
       "  </thead>\n",
       "  <tbody>\n",
       "    <tr>\n",
       "      <th>IMPGS</th>\n",
       "      <td>IMPGS</td>\n",
       "      <td>2025-04-09</td>\n",
       "      <td>2025-04-09</td>\n",
       "      <td>Imports of Goods and Services</td>\n",
       "      <td>1947-01-01</td>\n",
       "      <td>2024-10-01</td>\n",
       "      <td>Quarterly</td>\n",
       "      <td>Q</td>\n",
       "      <td>Billions of Dollars</td>\n",
       "      <td>Bil. of $</td>\n",
       "      <td>Seasonally Adjusted Annual Rate</td>\n",
       "      <td>SAAR</td>\n",
       "      <td>2025-03-27 08:02:02-05:00</td>\n",
       "      <td>53</td>\n",
       "      <td>BEA Account Code: B021RC  A Guide to the Natio...</td>\n",
       "    </tr>\n",
       "    <tr>\n",
       "      <th>IMPGSA</th>\n",
       "      <td>IMPGSA</td>\n",
       "      <td>2025-04-09</td>\n",
       "      <td>2025-04-09</td>\n",
       "      <td>Imports of Goods and Services</td>\n",
       "      <td>1929-01-01</td>\n",
       "      <td>2024-01-01</td>\n",
       "      <td>Annual</td>\n",
       "      <td>A</td>\n",
       "      <td>Billions of Dollars</td>\n",
       "      <td>Bil. of $</td>\n",
       "      <td>Not Seasonally Adjusted</td>\n",
       "      <td>NSA</td>\n",
       "      <td>2025-03-27 08:00:32-05:00</td>\n",
       "      <td>21</td>\n",
       "      <td>BEA Account Code: B021RC</td>\n",
       "    </tr>\n",
       "    <tr>\n",
       "      <th>IEAMGSN</th>\n",
       "      <td>IEAMGSN</td>\n",
       "      <td>2025-04-09</td>\n",
       "      <td>2025-04-09</td>\n",
       "      <td>Imports of goods and services</td>\n",
       "      <td>1999-01-01</td>\n",
       "      <td>2024-10-01</td>\n",
       "      <td>Quarterly</td>\n",
       "      <td>Q</td>\n",
       "      <td>Millions of Dollars</td>\n",
       "      <td>Mil. of $</td>\n",
       "      <td>Not Seasonally Adjusted</td>\n",
       "      <td>NSA</td>\n",
       "      <td>2025-03-20 09:30:04-05:00</td>\n",
       "      <td>17</td>\n",
       "      <td>None</td>\n",
       "    </tr>\n",
       "    <tr>\n",
       "      <th>IEAMGS</th>\n",
       "      <td>IEAMGS</td>\n",
       "      <td>2025-04-09</td>\n",
       "      <td>2025-04-09</td>\n",
       "      <td>Imports of goods and services</td>\n",
       "      <td>1999-01-01</td>\n",
       "      <td>2024-10-01</td>\n",
       "      <td>Quarterly</td>\n",
       "      <td>Q</td>\n",
       "      <td>Millions of Dollars</td>\n",
       "      <td>Mil. of $</td>\n",
       "      <td>Seasonally Adjusted</td>\n",
       "      <td>SA</td>\n",
       "      <td>2025-03-20 09:30:04-05:00</td>\n",
       "      <td>8</td>\n",
       "      <td>None</td>\n",
       "    </tr>\n",
       "    <tr>\n",
       "      <th>IEAMGSA</th>\n",
       "      <td>IEAMGSA</td>\n",
       "      <td>2025-04-09</td>\n",
       "      <td>2025-04-09</td>\n",
       "      <td>Imports of goods and services</td>\n",
       "      <td>1999-01-01</td>\n",
       "      <td>2024-01-01</td>\n",
       "      <td>Annual</td>\n",
       "      <td>A</td>\n",
       "      <td>Millions of Dollars</td>\n",
       "      <td>Mil. of $</td>\n",
       "      <td>Not Seasonally Adjusted</td>\n",
       "      <td>NSA</td>\n",
       "      <td>2025-03-20 09:30:08-05:00</td>\n",
       "      <td>5</td>\n",
       "      <td>None</td>\n",
       "    </tr>\n",
       "    <tr>\n",
       "      <th>NA000342Q</th>\n",
       "      <td>NA000342Q</td>\n",
       "      <td>2025-04-09</td>\n",
       "      <td>2025-04-09</td>\n",
       "      <td>Imports of Goods and Services</td>\n",
       "      <td>1947-01-01</td>\n",
       "      <td>2024-10-01</td>\n",
       "      <td>Quarterly</td>\n",
       "      <td>Q</td>\n",
       "      <td>Millions of Dollars</td>\n",
       "      <td>Mil. of $</td>\n",
       "      <td>Not Seasonally Adjusted</td>\n",
       "      <td>NSA</td>\n",
       "      <td>2025-03-27 08:02:33-05:00</td>\n",
       "      <td>4</td>\n",
       "      <td>BEA Account Code: NA000342</td>\n",
       "    </tr>\n",
       "    <tr>\n",
       "      <th>NC000342Q</th>\n",
       "      <td>NC000342Q</td>\n",
       "      <td>2025-04-09</td>\n",
       "      <td>2025-04-09</td>\n",
       "      <td>Imports of Goods and Services</td>\n",
       "      <td>2002-01-01</td>\n",
       "      <td>2024-10-01</td>\n",
       "      <td>Quarterly</td>\n",
       "      <td>Q</td>\n",
       "      <td>Index 2017=100</td>\n",
       "      <td>Index 2017=100</td>\n",
       "      <td>Not Seasonally Adjusted</td>\n",
       "      <td>NSA</td>\n",
       "      <td>2025-03-27 08:02:30-05:00</td>\n",
       "      <td>2</td>\n",
       "      <td>BEA Account Code: NC000342</td>\n",
       "    </tr>\n",
       "    <tr>\n",
       "      <th>IR</th>\n",
       "      <td>IR</td>\n",
       "      <td>2025-04-09</td>\n",
       "      <td>2025-04-09</td>\n",
       "      <td>Import Price Index (End Use): All Commodities</td>\n",
       "      <td>1982-09-01</td>\n",
       "      <td>2025-02-01</td>\n",
       "      <td>Monthly</td>\n",
       "      <td>M</td>\n",
       "      <td>Index 2000=100</td>\n",
       "      <td>Index 2000=100</td>\n",
       "      <td>Not Seasonally Adjusted</td>\n",
       "      <td>NSA</td>\n",
       "      <td>2025-03-18 07:37:50-05:00</td>\n",
       "      <td>51</td>\n",
       "      <td>For more information, please see the Import/Ex...</td>\n",
       "    </tr>\n",
       "    <tr>\n",
       "      <th>IMPGSC1</th>\n",
       "      <td>IMPGSC1</td>\n",
       "      <td>2025-04-09</td>\n",
       "      <td>2025-04-09</td>\n",
       "      <td>Real imports of goods and services</td>\n",
       "      <td>1947-01-01</td>\n",
       "      <td>2024-10-01</td>\n",
       "      <td>Quarterly</td>\n",
       "      <td>Q</td>\n",
       "      <td>Billions of Chained 2017 Dollars</td>\n",
       "      <td>Bil. of Chn. 2017 $</td>\n",
       "      <td>Seasonally Adjusted Annual Rate</td>\n",
       "      <td>SAAR</td>\n",
       "      <td>2025-03-27 08:03:25-05:00</td>\n",
       "      <td>44</td>\n",
       "      <td>BEA Account Code: A021RX  A Guide to the Natio...</td>\n",
       "    </tr>\n",
       "    <tr>\n",
       "      <th>IMPGSCA</th>\n",
       "      <td>IMPGSCA</td>\n",
       "      <td>2025-04-09</td>\n",
       "      <td>2025-04-09</td>\n",
       "      <td>Real Imports of Goods and Services</td>\n",
       "      <td>1929-01-01</td>\n",
       "      <td>2024-01-01</td>\n",
       "      <td>Annual</td>\n",
       "      <td>A</td>\n",
       "      <td>Billions of Chained 2017 Dollars</td>\n",
       "      <td>Bil. of Chn. 2017 $</td>\n",
       "      <td>Not Seasonally Adjusted</td>\n",
       "      <td>NSA</td>\n",
       "      <td>2025-03-27 08:00:32-05:00</td>\n",
       "      <td>37</td>\n",
       "      <td>BEA Account Code: A021RX  A Guide to the Natio...</td>\n",
       "    </tr>\n",
       "  </tbody>\n",
       "</table>\n",
       "</div>"
      ],
      "text/plain": [
       "                  id realtime_start realtime_end  \\\n",
       "series id                                          \n",
       "IMPGS          IMPGS     2025-04-09   2025-04-09   \n",
       "IMPGSA        IMPGSA     2025-04-09   2025-04-09   \n",
       "IEAMGSN      IEAMGSN     2025-04-09   2025-04-09   \n",
       "IEAMGS        IEAMGS     2025-04-09   2025-04-09   \n",
       "IEAMGSA      IEAMGSA     2025-04-09   2025-04-09   \n",
       "NA000342Q  NA000342Q     2025-04-09   2025-04-09   \n",
       "NC000342Q  NC000342Q     2025-04-09   2025-04-09   \n",
       "IR                IR     2025-04-09   2025-04-09   \n",
       "IMPGSC1      IMPGSC1     2025-04-09   2025-04-09   \n",
       "IMPGSCA      IMPGSCA     2025-04-09   2025-04-09   \n",
       "\n",
       "                                                   title observation_start  \\\n",
       "series id                                                                    \n",
       "IMPGS                      Imports of Goods and Services        1947-01-01   \n",
       "IMPGSA                     Imports of Goods and Services        1929-01-01   \n",
       "IEAMGSN                    Imports of goods and services        1999-01-01   \n",
       "IEAMGS                     Imports of goods and services        1999-01-01   \n",
       "IEAMGSA                    Imports of goods and services        1999-01-01   \n",
       "NA000342Q                  Imports of Goods and Services        1947-01-01   \n",
       "NC000342Q                  Imports of Goods and Services        2002-01-01   \n",
       "IR         Import Price Index (End Use): All Commodities        1982-09-01   \n",
       "IMPGSC1               Real imports of goods and services        1947-01-01   \n",
       "IMPGSCA               Real Imports of Goods and Services        1929-01-01   \n",
       "\n",
       "          observation_end  frequency frequency_short  \\\n",
       "series id                                              \n",
       "IMPGS          2024-10-01  Quarterly               Q   \n",
       "IMPGSA         2024-01-01     Annual               A   \n",
       "IEAMGSN        2024-10-01  Quarterly               Q   \n",
       "IEAMGS         2024-10-01  Quarterly               Q   \n",
       "IEAMGSA        2024-01-01     Annual               A   \n",
       "NA000342Q      2024-10-01  Quarterly               Q   \n",
       "NC000342Q      2024-10-01  Quarterly               Q   \n",
       "IR             2025-02-01    Monthly               M   \n",
       "IMPGSC1        2024-10-01  Quarterly               Q   \n",
       "IMPGSCA        2024-01-01     Annual               A   \n",
       "\n",
       "                                      units          units_short  \\\n",
       "series id                                                          \n",
       "IMPGS                   Billions of Dollars            Bil. of $   \n",
       "IMPGSA                  Billions of Dollars            Bil. of $   \n",
       "IEAMGSN                 Millions of Dollars            Mil. of $   \n",
       "IEAMGS                  Millions of Dollars            Mil. of $   \n",
       "IEAMGSA                 Millions of Dollars            Mil. of $   \n",
       "NA000342Q               Millions of Dollars            Mil. of $   \n",
       "NC000342Q                    Index 2017=100       Index 2017=100   \n",
       "IR                           Index 2000=100       Index 2000=100   \n",
       "IMPGSC1    Billions of Chained 2017 Dollars  Bil. of Chn. 2017 $   \n",
       "IMPGSCA    Billions of Chained 2017 Dollars  Bil. of Chn. 2017 $   \n",
       "\n",
       "                       seasonal_adjustment seasonal_adjustment_short  \\\n",
       "series id                                                              \n",
       "IMPGS      Seasonally Adjusted Annual Rate                      SAAR   \n",
       "IMPGSA             Not Seasonally Adjusted                       NSA   \n",
       "IEAMGSN            Not Seasonally Adjusted                       NSA   \n",
       "IEAMGS                 Seasonally Adjusted                        SA   \n",
       "IEAMGSA            Not Seasonally Adjusted                       NSA   \n",
       "NA000342Q          Not Seasonally Adjusted                       NSA   \n",
       "NC000342Q          Not Seasonally Adjusted                       NSA   \n",
       "IR                 Not Seasonally Adjusted                       NSA   \n",
       "IMPGSC1    Seasonally Adjusted Annual Rate                      SAAR   \n",
       "IMPGSCA            Not Seasonally Adjusted                       NSA   \n",
       "\n",
       "                        last_updated popularity  \\\n",
       "series id                                         \n",
       "IMPGS      2025-03-27 08:02:02-05:00         53   \n",
       "IMPGSA     2025-03-27 08:00:32-05:00         21   \n",
       "IEAMGSN    2025-03-20 09:30:04-05:00         17   \n",
       "IEAMGS     2025-03-20 09:30:04-05:00          8   \n",
       "IEAMGSA    2025-03-20 09:30:08-05:00          5   \n",
       "NA000342Q  2025-03-27 08:02:33-05:00          4   \n",
       "NC000342Q  2025-03-27 08:02:30-05:00          2   \n",
       "IR         2025-03-18 07:37:50-05:00         51   \n",
       "IMPGSC1    2025-03-27 08:03:25-05:00         44   \n",
       "IMPGSCA    2025-03-27 08:00:32-05:00         37   \n",
       "\n",
       "                                                       notes  \n",
       "series id                                                     \n",
       "IMPGS      BEA Account Code: B021RC  A Guide to the Natio...  \n",
       "IMPGSA                            BEA Account Code: B021RC    \n",
       "IEAMGSN                                                 None  \n",
       "IEAMGS                                                  None  \n",
       "IEAMGSA                                                 None  \n",
       "NA000342Q                         BEA Account Code: NA000342  \n",
       "NC000342Q                         BEA Account Code: NC000342  \n",
       "IR         For more information, please see the Import/Ex...  \n",
       "IMPGSC1    BEA Account Code: A021RX  A Guide to the Natio...  \n",
       "IMPGSCA    BEA Account Code: A021RX  A Guide to the Natio...  "
      ]
     },
     "execution_count": 81,
     "metadata": {},
     "output_type": "execute_result"
    }
   ],
   "source": [
    "# search through FRED database\n",
    "fred.search('Imports', limit=10, order_by='search_rank')"
   ]
  },
  {
   "cell_type": "code",
   "execution_count": null,
   "metadata": {},
   "outputs": [],
   "source": [
    "def convert_monthly_to_quarterly(df):\n",
    "    \"\"\"\n",
    "    Convert monthly data to quarterly data by taking the mean of each quarter\n",
    "    \"\"\"\n",
    "    df.index = pd.to_datetime(df.index)\n",
    "    quarterly_df = df.resample('Q').mean()\n",
    "\n",
    "    # set index to be start of the quarter\n",
    "    quarterly_df.index = quarterly_df.index + pd.Timedelta(days=1) \n",
    "\n",
    "    # entries must drop the first observation due to resampling\n",
    "    return quarterly_df.tail(-1)"
   ]
  },
  {
   "cell_type": "code",
   "execution_count": null,
   "metadata": {},
   "outputs": [],
   "source": [
    "def filter_years(df, year):\n",
    "    \"\"\"\n",
    "    Filter the data to only inlcude entries past a certain year\n",
    "    \"\"\"\n",
    "\n",
    "    # must drop first observation to match quarterly data\n",
    "    return df[df.index.year >= year].tail(-1)\n"
   ]
  },
  {
   "cell_type": "code",
   "execution_count": 70,
   "metadata": {},
   "outputs": [
    {
     "data": {
      "text/plain": [
       "2022-07-01    26272.011\n",
       "2022-10-01    26734.277\n",
       "2023-01-01    27164.359\n",
       "2023-04-01    27453.815\n",
       "2023-07-01    27967.697\n",
       "2023-10-01    28296.967\n",
       "2024-01-01    28624.069\n",
       "2024-04-01    29016.714\n",
       "2024-07-01    29374.914\n",
       "2024-10-01    29723.864\n",
       "dtype: float64"
      ]
     },
     "execution_count": 70,
     "metadata": {},
     "output_type": "execute_result"
    }
   ],
   "source": [
    "# get the GDP data\n",
    "\n",
    "# quarterly GDP data\n",
    "GDP = fred.get_series_latest_release('GDP')\n",
    "\n",
    "# filter GDP to after 1968 to match CPI data\n",
    "GDP = filter_years(GDP, 1968)\n",
    "\n",
    "GDP.tail(10)"
   ]
  },
  {
   "cell_type": "code",
   "execution_count": null,
   "metadata": {},
   "outputs": [
    {
     "name": "stderr",
     "output_type": "stream",
     "text": [
      "C:\\Users\\wfpin\\AppData\\Local\\Temp\\ipykernel_15892\\3810233064.py:6: FutureWarning: 'Q' is deprecated and will be removed in a future version, please use 'QE' instead.\n",
      "  quarterly_df = df.resample('Q').mean()\n"
     ]
    },
    {
     "data": {
      "text/plain": [
       "2022-07-01    5.022476\n",
       "2022-10-01    5.963509\n",
       "2023-01-01    6.430481\n",
       "2023-04-01    6.468520\n",
       "2023-07-01    5.945127\n",
       "2023-10-01    5.176014\n",
       "2024-01-01    4.710545\n",
       "2024-04-01    4.501388\n",
       "2024-07-01    4.312833\n",
       "2024-10-01    4.101509\n",
       "dtype: float64"
      ]
     },
     "execution_count": 75,
     "metadata": {},
     "output_type": "execute_result"
    }
   ],
   "source": [
    "# get the CPI data\n",
    "Core_CPI = fred.get_series_latest_release('CORESTICKM159SFRBATL')\n",
    "\n",
    "# filter CPI to quarterly data\n",
    "Core_CPI = convert_monthly_to_quarterly(Core_CPI)\n",
    "\n",
    "# drop the last two observations to match GDP data\n",
    "Core_CPI = Core_CPI.head(-2)\n",
    "Core_CPI.tail(10)"
   ]
  },
  {
   "cell_type": "code",
   "execution_count": 76,
   "metadata": {},
   "outputs": [
    {
     "name": "stderr",
     "output_type": "stream",
     "text": [
      "C:\\Users\\wfpin\\AppData\\Local\\Temp\\ipykernel_15892\\3810233064.py:6: FutureWarning: 'Q' is deprecated and will be removed in a future version, please use 'QE' instead.\n",
      "  quarterly_df = df.resample('Q').mean()\n"
     ]
    },
    {
     "data": {
      "text/plain": [
       "2022-07-01    3.633333\n",
       "2022-10-01    3.533333\n",
       "2023-01-01    3.566667\n",
       "2023-04-01    3.533333\n",
       "2023-07-01    3.533333\n",
       "2023-10-01    3.666667\n",
       "2024-01-01    3.800000\n",
       "2024-04-01    3.833333\n",
       "2024-07-01    4.000000\n",
       "2024-10-01    4.166667\n",
       "dtype: float64"
      ]
     },
     "execution_count": 76,
     "metadata": {},
     "output_type": "execute_result"
    }
   ],
   "source": [
    "# get unemployment rate data\n",
    "Unemployment_Rate = fred.get_series_latest_release('UNRATE')\n",
    "\n",
    "# filter to be quarterly data and be after 1968\n",
    "Unemployment_Rate = convert_monthly_to_quarterly(Unemployment_Rate)\n",
    "Unemployment_Rate = filter_years(Unemployment_Rate, 1968)\n",
    "\n",
    "# drop the last two observations to match GDP data\n",
    "Unemployment_Rate = Unemployment_Rate.head(-2)\n",
    "Unemployment_Rate.tail(10)"
   ]
  },
  {
   "cell_type": "code",
   "execution_count": 77,
   "metadata": {},
   "outputs": [
    {
     "name": "stderr",
     "output_type": "stream",
     "text": [
      "C:\\Users\\wfpin\\AppData\\Local\\Temp\\ipykernel_15892\\3810233064.py:6: FutureWarning: 'Q' is deprecated and will be removed in a future version, please use 'QE' instead.\n",
      "  quarterly_df = df.resample('Q').mean()\n"
     ]
    },
    {
     "data": {
      "text/plain": [
       "2022-07-01    0.766813\n",
       "2022-10-01    2.182935\n",
       "2023-01-01    3.653370\n",
       "2023-04-01    4.514556\n",
       "2023-07-01    4.988132\n",
       "2023-10-01    5.259239\n",
       "2024-01-01    5.330000\n",
       "2024-04-01    5.330000\n",
       "2024-07-01    5.330000\n",
       "2024-10-01    5.264783\n",
       "dtype: float64"
      ]
     },
     "execution_count": 77,
     "metadata": {},
     "output_type": "execute_result"
    }
   ],
   "source": [
    "# get Fed Funds rate data\n",
    "FFR = fred.get_series_latest_release('DFF')\n",
    "\n",
    "# filter to be quarterly data and be after 1968\n",
    "FFR = convert_monthly_to_quarterly(FFR)\n",
    "FFR = filter_years(FFR, 1968)\n",
    "\n",
    "# drop the last three observations to match GDP data\n",
    "FFR = FFR.head(-3)\n",
    "FFR.tail(10)"
   ]
  },
  {
   "cell_type": "code",
   "execution_count": 78,
   "metadata": {},
   "outputs": [
    {
     "name": "stderr",
     "output_type": "stream",
     "text": [
      "C:\\Users\\wfpin\\AppData\\Local\\Temp\\ipykernel_15892\\3810233064.py:6: FutureWarning: 'Q' is deprecated and will be removed in a future version, please use 'QE' instead.\n",
      "  quarterly_df = df.resample('Q').mean()\n"
     ]
    },
    {
     "data": {
      "text/plain": [
       "2022-07-01    6068.545\n",
       "2022-10-01    6181.478\n",
       "2023-01-01    6317.107\n",
       "2023-04-01    6409.685\n",
       "2023-07-01    6444.696\n",
       "2023-10-01    6527.403\n",
       "2024-01-01    6619.838\n",
       "2024-04-01    6772.827\n",
       "2024-07-01    6864.587\n",
       "2024-10-01    7052.115\n",
       "dtype: float64"
      ]
     },
     "execution_count": 78,
     "metadata": {},
     "output_type": "execute_result"
    }
   ],
   "source": [
    "# get government expenditures\n",
    "Gov_Expenditures = fred.get_series_latest_release('FGEXPND')\n",
    "\n",
    "# filter to be quarterly data and be after 1968\n",
    "Gov_Expenditures = convert_monthly_to_quarterly(Gov_Expenditures)           \n",
    "Gov_Expenditures = filter_years(Gov_Expenditures, 1968)\n",
    "\n",
    "# drop the last observation to match GDP data\n",
    "Gov_Expenditures = Gov_Expenditures.head(-1)\n",
    "Gov_Expenditures.tail(10)"
   ]
  },
  {
   "cell_type": "code",
   "execution_count": null,
   "metadata": {},
   "outputs": [
    {
     "data": {
      "text/plain": [
       "2022-07-01    3988.447\n",
       "2022-10-01    3897.402\n",
       "2023-01-01    3874.210\n",
       "2023-04-01    3799.003\n",
       "2023-07-01    3843.132\n",
       "2023-10-01    3882.899\n",
       "2024-01-01    3966.989\n",
       "2024-04-01    4061.192\n",
       "2024-07-01    4163.975\n",
       "2024-10-01    4141.013\n",
       "dtype: float64"
      ]
     },
     "execution_count": 69,
     "metadata": {},
     "output_type": "execute_result"
    }
   ],
   "source": [
    "# get import data\n",
    "\n",
    "# quarterly import data\n",
    "Imports = fred.get_series_latest_release('IMPGS')\n",
    "\n",
    "# filter to be after 1968   \n",
    "Imports = filter_years(Imports, 1968)\n",
    "Imports.tail(10)"
   ]
  },
  {
   "cell_type": "code",
   "execution_count": 82,
   "metadata": {},
   "outputs": [
    {
     "data": {
      "text/plain": [
       "2022-07-01    3102.550\n",
       "2022-10-01    3046.718\n",
       "2023-01-01    3060.562\n",
       "2023-04-01    2995.524\n",
       "2023-07-01    3062.041\n",
       "2023-10-01    3091.748\n",
       "2024-01-01    3125.421\n",
       "2024-04-01    3154.321\n",
       "2024-07-01    3220.292\n",
       "2024-10-01    3220.929\n",
       "dtype: float64"
      ]
     },
     "execution_count": 82,
     "metadata": {},
     "output_type": "execute_result"
    }
   ],
   "source": [
    "# get export data\n",
    "\n",
    "# quarterly export data\n",
    "Exports = fred.get_series_latest_release('EXPGS')\n",
    "\n",
    "# filter to be after 1968\n",
    "Exports = filter_years(Exports, 1968)\n",
    "Exports.tail(10)"
   ]
  },
  {
   "cell_type": "code",
   "execution_count": null,
   "metadata": {},
   "outputs": [],
   "source": []
  }
 ],
 "metadata": {
  "kernelspec": {
   "display_name": "Python 3",
   "language": "python",
   "name": "python3"
  },
  "language_info": {
   "codemirror_mode": {
    "name": "ipython",
    "version": 3
   },
   "file_extension": ".py",
   "mimetype": "text/x-python",
   "name": "python",
   "nbconvert_exporter": "python",
   "pygments_lexer": "ipython3",
   "version": "3.13.2"
  }
 },
 "nbformat": 4,
 "nbformat_minor": 2
}
